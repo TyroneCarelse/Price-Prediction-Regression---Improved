{
 "cells": [
  {
   "cell_type": "markdown",
   "metadata": {},
   "source": [
    "### Apple Price Challenge \n",
    "\n",
    "\n",
    "Imagine you are in the Fresh Produce Industry. How much stock do you have on hand? Not too little that you run out of stock when customers want to buy more. And not too much that food waste occurs. How do you set your prices? Yields from farms fluctuate by season. Should your prices then also fluctuate by season?\n",
    "\n",
    "With this context, EDSA is challenging you to construct a regression algorithm, capable of accurately predicting how much a kilogram of Golden Delicious Apples will cost, given certain parameters.\n",
    "\n",
    "Providing an accurate and robust solution to this challenge has immense economic potential, with users of the system being able to accurately determine how much stock to have on hand and what price to set the Golden Delicious Apples to.\n",
    "\n",
    "\n",
    "#### Data Overview\n",
    "This dataset consists of over 60 000 sales made by Durban Fresh Produce Market.\n",
    "\n",
    "For this Predict, you will need to use this data to predict the average price per kilogram of Golden Delicious Apples.\n",
    "\n",
    "#### Source\n",
    "The data for this dataset was obtained from Durban Fresh Produce Market and adjusted to suit this challenge's needs\n",
    "\n",
    "#### Supplied Files\n",
    "df - train_set.csv - The training split of the dataset.\n",
    "df - test_set.csv - The test split of the dataset.\n",
    "#### Data Fields\n",
    "Province - Which province the produce was grown\n",
    "\n",
    "\n",
    "\n",
    "- Container - The code for the type of container\n",
    "- Size_Grade - The class of the produce according to their quality\n",
    "- Weight_Kg - The total weight in kilograms\n",
    "- Commodities - The type of produce, e.g. Golden Delicious Apples\n",
    "- Date - The date of the sale\n",
    "- Sales_Total - The total sales price\n",
    "- Total_Qty_Sold - The number of produce sold\n",
    "- Total_Kg_Sold - The total weight of the produce sold in kilograms\n",
    "- Stock_On_Hand - The amount of produce the store has"
   ]
  },
  {
   "cell_type": "markdown",
   "metadata": {},
   "source": [
    "#### Import the necessary libraries"
   ]
  },
  {
   "cell_type": "code",
   "execution_count": 4,
   "metadata": {},
   "outputs": [],
   "source": [
    "import pandas as pd\n",
    "import numpy as np\n",
    "import seaborn as sns\n",
    "import matplotlib.pyplot as plt\n",
    "import pandas as pd\n",
    "import numpy as np\n",
    "import seaborn as sns\n",
    "import matplotlib.pyplot as plt\n",
    "from sklearn import model_selection\n",
    "from sklearn.linear_model import LinearRegression\n",
    "from sklearn.linear_model import Ridge\n",
    "from sklearn.linear_model import Lasso\n",
    "from sklearn.linear_model import ElasticNet\n",
    "from sklearn.tree import DecisionTreeRegressor\n",
    "from sklearn.svm import SVR\n",
    "from sklearn.ensemble import RandomForestRegressor\n",
    "from sklearn.metrics import r2_score\n",
    "from sklearn.model_selection import train_test_split\n",
    "from sklearn.metrics import mean_squared_error\n",
    "from math import sqrt\n",
    "from sklearn import svm"
   ]
  },
  {
   "cell_type": "markdown",
   "metadata": {},
   "source": [
    "#### Lets inspect what our data looks like by reading in the file using pandas"
   ]
  },
  {
   "cell_type": "code",
   "execution_count": 5,
   "metadata": {},
   "outputs": [
    {
     "data": {
      "text/html": [
       "<div>\n",
       "<style scoped>\n",
       "    .dataframe tbody tr th:only-of-type {\n",
       "        vertical-align: middle;\n",
       "    }\n",
       "\n",
       "    .dataframe tbody tr th {\n",
       "        vertical-align: top;\n",
       "    }\n",
       "\n",
       "    .dataframe thead th {\n",
       "        text-align: right;\n",
       "    }\n",
       "</style>\n",
       "<table border=\"1\" class=\"dataframe\">\n",
       "  <thead>\n",
       "    <tr style=\"text-align: right;\">\n",
       "      <th></th>\n",
       "      <th>Province</th>\n",
       "      <th>Container</th>\n",
       "      <th>Size_Grade</th>\n",
       "      <th>Weight_Kg</th>\n",
       "      <th>Commodities</th>\n",
       "      <th>Date</th>\n",
       "      <th>Low_Price</th>\n",
       "      <th>High_Price</th>\n",
       "      <th>Sales_Total</th>\n",
       "      <th>Total_Qty_Sold</th>\n",
       "      <th>Total_Kg_Sold</th>\n",
       "      <th>Stock_On_Hand</th>\n",
       "      <th>avg_price_per_kg</th>\n",
       "    </tr>\n",
       "  </thead>\n",
       "  <tbody>\n",
       "    <tr>\n",
       "      <th>0</th>\n",
       "      <td>CAPE</td>\n",
       "      <td>EC120</td>\n",
       "      <td>1L</td>\n",
       "      <td>12.0</td>\n",
       "      <td>APPLE GRANNY SMITH</td>\n",
       "      <td>2020-03-10</td>\n",
       "      <td>108.0</td>\n",
       "      <td>112.0</td>\n",
       "      <td>3236.0</td>\n",
       "      <td>29</td>\n",
       "      <td>348.0</td>\n",
       "      <td>0</td>\n",
       "      <td>9.30</td>\n",
       "    </tr>\n",
       "    <tr>\n",
       "      <th>1</th>\n",
       "      <td>CAPE</td>\n",
       "      <td>M4183</td>\n",
       "      <td>1L</td>\n",
       "      <td>18.3</td>\n",
       "      <td>APPLE GOLDEN DELICIOUS</td>\n",
       "      <td>2020-09-09</td>\n",
       "      <td>150.0</td>\n",
       "      <td>170.0</td>\n",
       "      <td>51710.0</td>\n",
       "      <td>332</td>\n",
       "      <td>6075.6</td>\n",
       "      <td>822</td>\n",
       "      <td>8.51</td>\n",
       "    </tr>\n",
       "    <tr>\n",
       "      <th>2</th>\n",
       "      <td>GAUTENG</td>\n",
       "      <td>AT200</td>\n",
       "      <td>1L</td>\n",
       "      <td>20.0</td>\n",
       "      <td>AVOCADO PINKERTON</td>\n",
       "      <td>2020-05-05</td>\n",
       "      <td>70.0</td>\n",
       "      <td>80.0</td>\n",
       "      <td>4860.0</td>\n",
       "      <td>66</td>\n",
       "      <td>1320.0</td>\n",
       "      <td>50</td>\n",
       "      <td>3.68</td>\n",
       "    </tr>\n",
       "    <tr>\n",
       "      <th>3</th>\n",
       "      <td>TRANSVAAL</td>\n",
       "      <td>BJ090</td>\n",
       "      <td>1L</td>\n",
       "      <td>9.0</td>\n",
       "      <td>TOMATOES-LONG LIFE</td>\n",
       "      <td>2020-01-20</td>\n",
       "      <td>60.0</td>\n",
       "      <td>60.0</td>\n",
       "      <td>600.0</td>\n",
       "      <td>10</td>\n",
       "      <td>90.0</td>\n",
       "      <td>0</td>\n",
       "      <td>6.67</td>\n",
       "    </tr>\n",
       "    <tr>\n",
       "      <th>4</th>\n",
       "      <td>WESTERN FREESTATE</td>\n",
       "      <td>PP100</td>\n",
       "      <td>1R</td>\n",
       "      <td>10.0</td>\n",
       "      <td>POTATO SIFRA (WASHED)</td>\n",
       "      <td>2020-07-14</td>\n",
       "      <td>40.0</td>\n",
       "      <td>45.0</td>\n",
       "      <td>41530.0</td>\n",
       "      <td>927</td>\n",
       "      <td>9270.0</td>\n",
       "      <td>393</td>\n",
       "      <td>4.48</td>\n",
       "    </tr>\n",
       "  </tbody>\n",
       "</table>\n",
       "</div>"
      ],
      "text/plain": [
       "            Province Container Size_Grade  Weight_Kg             Commodities  \\\n",
       "0               CAPE     EC120         1L       12.0      APPLE GRANNY SMITH   \n",
       "1               CAPE     M4183         1L       18.3  APPLE GOLDEN DELICIOUS   \n",
       "2            GAUTENG     AT200         1L       20.0       AVOCADO PINKERTON   \n",
       "3          TRANSVAAL     BJ090         1L        9.0      TOMATOES-LONG LIFE   \n",
       "4  WESTERN FREESTATE     PP100         1R       10.0   POTATO SIFRA (WASHED)   \n",
       "\n",
       "         Date  Low_Price  High_Price  Sales_Total  Total_Qty_Sold  \\\n",
       "0  2020-03-10      108.0       112.0       3236.0              29   \n",
       "1  2020-09-09      150.0       170.0      51710.0             332   \n",
       "2  2020-05-05       70.0        80.0       4860.0              66   \n",
       "3  2020-01-20       60.0        60.0        600.0              10   \n",
       "4  2020-07-14       40.0        45.0      41530.0             927   \n",
       "\n",
       "   Total_Kg_Sold  Stock_On_Hand  avg_price_per_kg  \n",
       "0          348.0              0              9.30  \n",
       "1         6075.6            822              8.51  \n",
       "2         1320.0             50              3.68  \n",
       "3           90.0              0              6.67  \n",
       "4         9270.0            393              4.48  "
      ]
     },
     "execution_count": 5,
     "metadata": {},
     "output_type": "execute_result"
    }
   ],
   "source": [
    "df = pd.read_csv('df-train_set.csv')\n",
    "df.head()"
   ]
  },
  {
   "cell_type": "code",
   "execution_count": 6,
   "metadata": {},
   "outputs": [
    {
     "data": {
      "text/html": [
       "<div>\n",
       "<style scoped>\n",
       "    .dataframe tbody tr th:only-of-type {\n",
       "        vertical-align: middle;\n",
       "    }\n",
       "\n",
       "    .dataframe tbody tr th {\n",
       "        vertical-align: top;\n",
       "    }\n",
       "\n",
       "    .dataframe thead th {\n",
       "        text-align: right;\n",
       "    }\n",
       "</style>\n",
       "<table border=\"1\" class=\"dataframe\">\n",
       "  <thead>\n",
       "    <tr style=\"text-align: right;\">\n",
       "      <th></th>\n",
       "      <th>Index</th>\n",
       "      <th>Province</th>\n",
       "      <th>Container</th>\n",
       "      <th>Size_Grade</th>\n",
       "      <th>Weight_Kg</th>\n",
       "      <th>Commodities</th>\n",
       "      <th>Date</th>\n",
       "      <th>Low_Price</th>\n",
       "      <th>High_Price</th>\n",
       "      <th>Sales_Total</th>\n",
       "      <th>Total_Qty_Sold</th>\n",
       "      <th>Total_Kg_Sold</th>\n",
       "      <th>Stock_On_Hand</th>\n",
       "    </tr>\n",
       "  </thead>\n",
       "  <tbody>\n",
       "    <tr>\n",
       "      <th>0</th>\n",
       "      <td>1</td>\n",
       "      <td>W.CAPE-BERGRIVER ETC</td>\n",
       "      <td>EC120</td>\n",
       "      <td>1M</td>\n",
       "      <td>12.0</td>\n",
       "      <td>APPLE GOLDEN DELICIOUS</td>\n",
       "      <td>2020-07-09</td>\n",
       "      <td>128.0</td>\n",
       "      <td>136.0</td>\n",
       "      <td>5008.0</td>\n",
       "      <td>38</td>\n",
       "      <td>456.0</td>\n",
       "      <td>0</td>\n",
       "    </tr>\n",
       "    <tr>\n",
       "      <th>1</th>\n",
       "      <td>2</td>\n",
       "      <td>W.CAPE-BERGRIVER ETC</td>\n",
       "      <td>M4183</td>\n",
       "      <td>1X</td>\n",
       "      <td>18.3</td>\n",
       "      <td>APPLE GOLDEN DELICIOUS</td>\n",
       "      <td>2020-01-20</td>\n",
       "      <td>220.0</td>\n",
       "      <td>220.0</td>\n",
       "      <td>1760.0</td>\n",
       "      <td>8</td>\n",
       "      <td>146.4</td>\n",
       "      <td>2</td>\n",
       "    </tr>\n",
       "    <tr>\n",
       "      <th>2</th>\n",
       "      <td>3</td>\n",
       "      <td>W.CAPE-BERGRIVER ETC</td>\n",
       "      <td>EC120</td>\n",
       "      <td>1S</td>\n",
       "      <td>12.0</td>\n",
       "      <td>APPLE GOLDEN DELICIOUS</td>\n",
       "      <td>2020-08-19</td>\n",
       "      <td>120.0</td>\n",
       "      <td>120.0</td>\n",
       "      <td>720.0</td>\n",
       "      <td>6</td>\n",
       "      <td>72.0</td>\n",
       "      <td>45</td>\n",
       "    </tr>\n",
       "    <tr>\n",
       "      <th>3</th>\n",
       "      <td>4</td>\n",
       "      <td>W.CAPE-BERGRIVER ETC</td>\n",
       "      <td>M4183</td>\n",
       "      <td>1M</td>\n",
       "      <td>18.3</td>\n",
       "      <td>APPLE GOLDEN DELICIOUS</td>\n",
       "      <td>2020-05-06</td>\n",
       "      <td>160.0</td>\n",
       "      <td>160.0</td>\n",
       "      <td>160.0</td>\n",
       "      <td>1</td>\n",
       "      <td>18.3</td>\n",
       "      <td>8</td>\n",
       "    </tr>\n",
       "    <tr>\n",
       "      <th>4</th>\n",
       "      <td>5</td>\n",
       "      <td>W.CAPE-BERGRIVER ETC</td>\n",
       "      <td>M4183</td>\n",
       "      <td>1L</td>\n",
       "      <td>18.3</td>\n",
       "      <td>APPLE GOLDEN DELICIOUS</td>\n",
       "      <td>2020-05-04</td>\n",
       "      <td>140.0</td>\n",
       "      <td>160.0</td>\n",
       "      <td>14140.0</td>\n",
       "      <td>100</td>\n",
       "      <td>1830.0</td>\n",
       "      <td>19</td>\n",
       "    </tr>\n",
       "  </tbody>\n",
       "</table>\n",
       "</div>"
      ],
      "text/plain": [
       "   Index              Province Container Size_Grade  Weight_Kg  \\\n",
       "0      1  W.CAPE-BERGRIVER ETC     EC120         1M       12.0   \n",
       "1      2  W.CAPE-BERGRIVER ETC     M4183         1X       18.3   \n",
       "2      3  W.CAPE-BERGRIVER ETC     EC120         1S       12.0   \n",
       "3      4  W.CAPE-BERGRIVER ETC     M4183         1M       18.3   \n",
       "4      5  W.CAPE-BERGRIVER ETC     M4183         1L       18.3   \n",
       "\n",
       "              Commodities        Date  Low_Price  High_Price  Sales_Total  \\\n",
       "0  APPLE GOLDEN DELICIOUS  2020-07-09      128.0       136.0       5008.0   \n",
       "1  APPLE GOLDEN DELICIOUS  2020-01-20      220.0       220.0       1760.0   \n",
       "2  APPLE GOLDEN DELICIOUS  2020-08-19      120.0       120.0        720.0   \n",
       "3  APPLE GOLDEN DELICIOUS  2020-05-06      160.0       160.0        160.0   \n",
       "4  APPLE GOLDEN DELICIOUS  2020-05-04      140.0       160.0      14140.0   \n",
       "\n",
       "   Total_Qty_Sold  Total_Kg_Sold  Stock_On_Hand  \n",
       "0              38          456.0              0  \n",
       "1               8          146.4              2  \n",
       "2               6           72.0             45  \n",
       "3               1           18.3              8  \n",
       "4             100         1830.0             19  "
      ]
     },
     "execution_count": 6,
     "metadata": {},
     "output_type": "execute_result"
    }
   ],
   "source": [
    "df_test = pd.read_csv('df_test.csv')\n",
    "df_test.head()"
   ]
  },
  {
   "cell_type": "code",
   "execution_count": 8,
   "metadata": {},
   "outputs": [
    {
     "data": {
      "text/plain": [
       "(64376, 13)"
      ]
     },
     "execution_count": 8,
     "metadata": {},
     "output_type": "execute_result"
    }
   ],
   "source": [
    "# Checking the shape of the data set\n",
    "\n",
    "df.shape"
   ]
  },
  {
   "cell_type": "code",
   "execution_count": 9,
   "metadata": {},
   "outputs": [
    {
     "data": {
      "text/html": [
       "<div>\n",
       "<style scoped>\n",
       "    .dataframe tbody tr th:only-of-type {\n",
       "        vertical-align: middle;\n",
       "    }\n",
       "\n",
       "    .dataframe tbody tr th {\n",
       "        vertical-align: top;\n",
       "    }\n",
       "\n",
       "    .dataframe thead th {\n",
       "        text-align: right;\n",
       "    }\n",
       "</style>\n",
       "<table border=\"1\" class=\"dataframe\">\n",
       "  <thead>\n",
       "    <tr style=\"text-align: right;\">\n",
       "      <th></th>\n",
       "      <th>Weight_Kg</th>\n",
       "      <th>Low_Price</th>\n",
       "      <th>High_Price</th>\n",
       "      <th>Sales_Total</th>\n",
       "      <th>Total_Qty_Sold</th>\n",
       "      <th>Total_Kg_Sold</th>\n",
       "      <th>Stock_On_Hand</th>\n",
       "      <th>avg_price_per_kg</th>\n",
       "    </tr>\n",
       "  </thead>\n",
       "  <tbody>\n",
       "    <tr>\n",
       "      <th>count</th>\n",
       "      <td>64376.000000</td>\n",
       "      <td>64376.000000</td>\n",
       "      <td>64376.000000</td>\n",
       "      <td>6.437600e+04</td>\n",
       "      <td>64376.000000</td>\n",
       "      <td>64376.000000</td>\n",
       "      <td>64376.000000</td>\n",
       "      <td>64376.00</td>\n",
       "    </tr>\n",
       "    <tr>\n",
       "      <th>mean</th>\n",
       "      <td>12.781592</td>\n",
       "      <td>75.651938</td>\n",
       "      <td>89.607858</td>\n",
       "      <td>1.939501e+04</td>\n",
       "      <td>446.104402</td>\n",
       "      <td>3336.641295</td>\n",
       "      <td>477.646328</td>\n",
       "      <td>NaN</td>\n",
       "    </tr>\n",
       "    <tr>\n",
       "      <th>std</th>\n",
       "      <td>35.943052</td>\n",
       "      <td>159.508144</td>\n",
       "      <td>172.223177</td>\n",
       "      <td>4.442192e+04</td>\n",
       "      <td>1184.169758</td>\n",
       "      <td>7682.295441</td>\n",
       "      <td>1453.892091</td>\n",
       "      <td>NaN</td>\n",
       "    </tr>\n",
       "    <tr>\n",
       "      <th>min</th>\n",
       "      <td>0.120000</td>\n",
       "      <td>1.000000</td>\n",
       "      <td>1.000000</td>\n",
       "      <td>-5.770000e+04</td>\n",
       "      <td>-595.000000</td>\n",
       "      <td>-5040.000000</td>\n",
       "      <td>-512.000000</td>\n",
       "      <td>-inf</td>\n",
       "    </tr>\n",
       "    <tr>\n",
       "      <th>25%</th>\n",
       "      <td>7.000000</td>\n",
       "      <td>30.000000</td>\n",
       "      <td>35.000000</td>\n",
       "      <td>1.154000e+03</td>\n",
       "      <td>20.000000</td>\n",
       "      <td>175.000000</td>\n",
       "      <td>0.000000</td>\n",
       "      <td>4.02</td>\n",
       "    </tr>\n",
       "    <tr>\n",
       "      <th>50%</th>\n",
       "      <td>10.000000</td>\n",
       "      <td>46.000000</td>\n",
       "      <td>55.000000</td>\n",
       "      <td>5.400000e+03</td>\n",
       "      <td>107.000000</td>\n",
       "      <td>940.000000</td>\n",
       "      <td>76.000000</td>\n",
       "      <td>6.00</td>\n",
       "    </tr>\n",
       "    <tr>\n",
       "      <th>75%</th>\n",
       "      <td>11.000000</td>\n",
       "      <td>80.000000</td>\n",
       "      <td>100.000000</td>\n",
       "      <td>1.877200e+04</td>\n",
       "      <td>390.000000</td>\n",
       "      <td>3250.000000</td>\n",
       "      <td>381.000000</td>\n",
       "      <td>8.67</td>\n",
       "    </tr>\n",
       "    <tr>\n",
       "      <th>max</th>\n",
       "      <td>500.000000</td>\n",
       "      <td>4400.000000</td>\n",
       "      <td>4400.000000</td>\n",
       "      <td>1.134701e+06</td>\n",
       "      <td>39453.000000</td>\n",
       "      <td>192230.000000</td>\n",
       "      <td>93193.000000</td>\n",
       "      <td>inf</td>\n",
       "    </tr>\n",
       "  </tbody>\n",
       "</table>\n",
       "</div>"
      ],
      "text/plain": [
       "          Weight_Kg     Low_Price    High_Price   Sales_Total  Total_Qty_Sold  \\\n",
       "count  64376.000000  64376.000000  64376.000000  6.437600e+04    64376.000000   \n",
       "mean      12.781592     75.651938     89.607858  1.939501e+04      446.104402   \n",
       "std       35.943052    159.508144    172.223177  4.442192e+04     1184.169758   \n",
       "min        0.120000      1.000000      1.000000 -5.770000e+04     -595.000000   \n",
       "25%        7.000000     30.000000     35.000000  1.154000e+03       20.000000   \n",
       "50%       10.000000     46.000000     55.000000  5.400000e+03      107.000000   \n",
       "75%       11.000000     80.000000    100.000000  1.877200e+04      390.000000   \n",
       "max      500.000000   4400.000000   4400.000000  1.134701e+06    39453.000000   \n",
       "\n",
       "       Total_Kg_Sold  Stock_On_Hand  avg_price_per_kg  \n",
       "count   64376.000000   64376.000000          64376.00  \n",
       "mean     3336.641295     477.646328               NaN  \n",
       "std      7682.295441    1453.892091               NaN  \n",
       "min     -5040.000000    -512.000000              -inf  \n",
       "25%       175.000000       0.000000              4.02  \n",
       "50%       940.000000      76.000000              6.00  \n",
       "75%      3250.000000     381.000000              8.67  \n",
       "max    192230.000000   93193.000000               inf  "
      ]
     },
     "execution_count": 9,
     "metadata": {},
     "output_type": "execute_result"
    }
   ],
   "source": [
    "df.describe()"
   ]
  },
  {
   "cell_type": "markdown",
   "metadata": {},
   "source": [
    "The table above indicates that the \"avg_price_per_kg\" has infinite values - I will replace this with nan values"
   ]
  },
  {
   "cell_type": "code",
   "execution_count": 118,
   "metadata": {},
   "outputs": [],
   "source": [
    "# Replacing infinite with nan\n",
    "df.replace([np.inf, -np.inf], np.nan, inplace=True)"
   ]
  },
  {
   "cell_type": "markdown",
   "metadata": {},
   "source": [
    "##### Inspecting some of the descriptive statistics of the numerical features of the dataset"
   ]
  },
  {
   "cell_type": "code",
   "execution_count": 10,
   "metadata": {},
   "outputs": [
    {
     "data": {
      "text/html": [
       "<div>\n",
       "<style scoped>\n",
       "    .dataframe tbody tr th:only-of-type {\n",
       "        vertical-align: middle;\n",
       "    }\n",
       "\n",
       "    .dataframe tbody tr th {\n",
       "        vertical-align: top;\n",
       "    }\n",
       "\n",
       "    .dataframe thead th {\n",
       "        text-align: right;\n",
       "    }\n",
       "</style>\n",
       "<table border=\"1\" class=\"dataframe\">\n",
       "  <thead>\n",
       "    <tr style=\"text-align: right;\">\n",
       "      <th></th>\n",
       "      <th>Weight_Kg</th>\n",
       "      <th>Low_Price</th>\n",
       "      <th>High_Price</th>\n",
       "      <th>Sales_Total</th>\n",
       "      <th>Total_Qty_Sold</th>\n",
       "      <th>Total_Kg_Sold</th>\n",
       "      <th>Stock_On_Hand</th>\n",
       "      <th>avg_price_per_kg</th>\n",
       "    </tr>\n",
       "  </thead>\n",
       "  <tbody>\n",
       "    <tr>\n",
       "      <th>count</th>\n",
       "      <td>64376.000000</td>\n",
       "      <td>64376.000000</td>\n",
       "      <td>64376.000000</td>\n",
       "      <td>6.437600e+04</td>\n",
       "      <td>64376.000000</td>\n",
       "      <td>64376.000000</td>\n",
       "      <td>64376.000000</td>\n",
       "      <td>64376.00</td>\n",
       "    </tr>\n",
       "    <tr>\n",
       "      <th>mean</th>\n",
       "      <td>12.781592</td>\n",
       "      <td>75.651938</td>\n",
       "      <td>89.607858</td>\n",
       "      <td>1.939501e+04</td>\n",
       "      <td>446.104402</td>\n",
       "      <td>3336.641295</td>\n",
       "      <td>477.646328</td>\n",
       "      <td>NaN</td>\n",
       "    </tr>\n",
       "    <tr>\n",
       "      <th>std</th>\n",
       "      <td>35.943052</td>\n",
       "      <td>159.508144</td>\n",
       "      <td>172.223177</td>\n",
       "      <td>4.442192e+04</td>\n",
       "      <td>1184.169758</td>\n",
       "      <td>7682.295441</td>\n",
       "      <td>1453.892091</td>\n",
       "      <td>NaN</td>\n",
       "    </tr>\n",
       "    <tr>\n",
       "      <th>min</th>\n",
       "      <td>0.120000</td>\n",
       "      <td>1.000000</td>\n",
       "      <td>1.000000</td>\n",
       "      <td>-5.770000e+04</td>\n",
       "      <td>-595.000000</td>\n",
       "      <td>-5040.000000</td>\n",
       "      <td>-512.000000</td>\n",
       "      <td>-inf</td>\n",
       "    </tr>\n",
       "    <tr>\n",
       "      <th>25%</th>\n",
       "      <td>7.000000</td>\n",
       "      <td>30.000000</td>\n",
       "      <td>35.000000</td>\n",
       "      <td>1.154000e+03</td>\n",
       "      <td>20.000000</td>\n",
       "      <td>175.000000</td>\n",
       "      <td>0.000000</td>\n",
       "      <td>4.02</td>\n",
       "    </tr>\n",
       "    <tr>\n",
       "      <th>50%</th>\n",
       "      <td>10.000000</td>\n",
       "      <td>46.000000</td>\n",
       "      <td>55.000000</td>\n",
       "      <td>5.400000e+03</td>\n",
       "      <td>107.000000</td>\n",
       "      <td>940.000000</td>\n",
       "      <td>76.000000</td>\n",
       "      <td>6.00</td>\n",
       "    </tr>\n",
       "    <tr>\n",
       "      <th>75%</th>\n",
       "      <td>11.000000</td>\n",
       "      <td>80.000000</td>\n",
       "      <td>100.000000</td>\n",
       "      <td>1.877200e+04</td>\n",
       "      <td>390.000000</td>\n",
       "      <td>3250.000000</td>\n",
       "      <td>381.000000</td>\n",
       "      <td>8.67</td>\n",
       "    </tr>\n",
       "    <tr>\n",
       "      <th>max</th>\n",
       "      <td>500.000000</td>\n",
       "      <td>4400.000000</td>\n",
       "      <td>4400.000000</td>\n",
       "      <td>1.134701e+06</td>\n",
       "      <td>39453.000000</td>\n",
       "      <td>192230.000000</td>\n",
       "      <td>93193.000000</td>\n",
       "      <td>inf</td>\n",
       "    </tr>\n",
       "  </tbody>\n",
       "</table>\n",
       "</div>"
      ],
      "text/plain": [
       "          Weight_Kg     Low_Price    High_Price   Sales_Total  Total_Qty_Sold  \\\n",
       "count  64376.000000  64376.000000  64376.000000  6.437600e+04    64376.000000   \n",
       "mean      12.781592     75.651938     89.607858  1.939501e+04      446.104402   \n",
       "std       35.943052    159.508144    172.223177  4.442192e+04     1184.169758   \n",
       "min        0.120000      1.000000      1.000000 -5.770000e+04     -595.000000   \n",
       "25%        7.000000     30.000000     35.000000  1.154000e+03       20.000000   \n",
       "50%       10.000000     46.000000     55.000000  5.400000e+03      107.000000   \n",
       "75%       11.000000     80.000000    100.000000  1.877200e+04      390.000000   \n",
       "max      500.000000   4400.000000   4400.000000  1.134701e+06    39453.000000   \n",
       "\n",
       "       Total_Kg_Sold  Stock_On_Hand  avg_price_per_kg  \n",
       "count   64376.000000   64376.000000          64376.00  \n",
       "mean     3336.641295     477.646328               NaN  \n",
       "std      7682.295441    1453.892091               NaN  \n",
       "min     -5040.000000    -512.000000              -inf  \n",
       "25%       175.000000       0.000000              4.02  \n",
       "50%       940.000000      76.000000              6.00  \n",
       "75%      3250.000000     381.000000              8.67  \n",
       "max    192230.000000   93193.000000               inf  "
      ]
     },
     "execution_count": 10,
     "metadata": {},
     "output_type": "execute_result"
    }
   ],
   "source": [
    "df.describe()"
   ]
  },
  {
   "cell_type": "code",
   "execution_count": 120,
   "metadata": {},
   "outputs": [
    {
     "data": {
      "text/plain": [
       "Province            0\n",
       "Container           0\n",
       "Size_Grade          0\n",
       "Weight_Kg           0\n",
       "Commodities         0\n",
       "Date                0\n",
       "Low_Price           0\n",
       "High_Price          0\n",
       "Sales_Total         0\n",
       "Total_Qty_Sold      0\n",
       "Total_Kg_Sold       0\n",
       "Stock_On_Hand       0\n",
       "avg_price_per_kg    8\n",
       "dtype: int64"
      ]
     },
     "execution_count": 120,
     "metadata": {},
     "output_type": "execute_result"
    }
   ],
   "source": [
    "df.isnull().sum()"
   ]
  },
  {
   "cell_type": "markdown",
   "metadata": {},
   "source": [
    "We observe that there are now 8 values in the avg_price_per_kg that has nan values - these will be dropped, as we have over 60 000 entries in the dataset, removing these will not have a significant impact"
   ]
  },
  {
   "cell_type": "code",
   "execution_count": 121,
   "metadata": {},
   "outputs": [
    {
     "data": {
      "text/html": [
       "<div>\n",
       "<style scoped>\n",
       "    .dataframe tbody tr th:only-of-type {\n",
       "        vertical-align: middle;\n",
       "    }\n",
       "\n",
       "    .dataframe tbody tr th {\n",
       "        vertical-align: top;\n",
       "    }\n",
       "\n",
       "    .dataframe thead th {\n",
       "        text-align: right;\n",
       "    }\n",
       "</style>\n",
       "<table border=\"1\" class=\"dataframe\">\n",
       "  <thead>\n",
       "    <tr style=\"text-align: right;\">\n",
       "      <th></th>\n",
       "      <th>Weight_Kg</th>\n",
       "      <th>Low_Price</th>\n",
       "      <th>High_Price</th>\n",
       "      <th>Sales_Total</th>\n",
       "      <th>Total_Qty_Sold</th>\n",
       "      <th>Total_Kg_Sold</th>\n",
       "      <th>Stock_On_Hand</th>\n",
       "      <th>avg_price_per_kg</th>\n",
       "    </tr>\n",
       "  </thead>\n",
       "  <tbody>\n",
       "    <tr>\n",
       "      <th>count</th>\n",
       "      <td>64368.000000</td>\n",
       "      <td>64368.000000</td>\n",
       "      <td>64368.000000</td>\n",
       "      <td>6.436800e+04</td>\n",
       "      <td>64368.000000</td>\n",
       "      <td>64368.000000</td>\n",
       "      <td>64368.000000</td>\n",
       "      <td>64368.000000</td>\n",
       "    </tr>\n",
       "    <tr>\n",
       "      <th>mean</th>\n",
       "      <td>12.775983</td>\n",
       "      <td>75.649130</td>\n",
       "      <td>89.606784</td>\n",
       "      <td>1.939782e+04</td>\n",
       "      <td>446.159847</td>\n",
       "      <td>3337.055990</td>\n",
       "      <td>477.677107</td>\n",
       "      <td>10.465372</td>\n",
       "    </tr>\n",
       "    <tr>\n",
       "      <th>std</th>\n",
       "      <td>35.912807</td>\n",
       "      <td>159.508488</td>\n",
       "      <td>172.225175</td>\n",
       "      <td>4.442383e+04</td>\n",
       "      <td>1184.232900</td>\n",
       "      <td>7682.682767</td>\n",
       "      <td>1453.963990</td>\n",
       "      <td>26.126632</td>\n",
       "    </tr>\n",
       "    <tr>\n",
       "      <th>min</th>\n",
       "      <td>0.120000</td>\n",
       "      <td>1.000000</td>\n",
       "      <td>1.000000</td>\n",
       "      <td>-5.770000e+04</td>\n",
       "      <td>-595.000000</td>\n",
       "      <td>-5040.000000</td>\n",
       "      <td>-512.000000</td>\n",
       "      <td>-78.670000</td>\n",
       "    </tr>\n",
       "    <tr>\n",
       "      <th>25%</th>\n",
       "      <td>7.000000</td>\n",
       "      <td>30.000000</td>\n",
       "      <td>35.000000</td>\n",
       "      <td>1.155000e+03</td>\n",
       "      <td>20.000000</td>\n",
       "      <td>175.000000</td>\n",
       "      <td>0.000000</td>\n",
       "      <td>4.020000</td>\n",
       "    </tr>\n",
       "    <tr>\n",
       "      <th>50%</th>\n",
       "      <td>10.000000</td>\n",
       "      <td>46.000000</td>\n",
       "      <td>55.000000</td>\n",
       "      <td>5.400000e+03</td>\n",
       "      <td>107.000000</td>\n",
       "      <td>940.000000</td>\n",
       "      <td>76.000000</td>\n",
       "      <td>6.000000</td>\n",
       "    </tr>\n",
       "    <tr>\n",
       "      <th>75%</th>\n",
       "      <td>11.000000</td>\n",
       "      <td>80.000000</td>\n",
       "      <td>100.000000</td>\n",
       "      <td>1.877400e+04</td>\n",
       "      <td>390.000000</td>\n",
       "      <td>3253.000000</td>\n",
       "      <td>381.000000</td>\n",
       "      <td>8.670000</td>\n",
       "    </tr>\n",
       "    <tr>\n",
       "      <th>max</th>\n",
       "      <td>500.000000</td>\n",
       "      <td>4400.000000</td>\n",
       "      <td>4400.000000</td>\n",
       "      <td>1.134701e+06</td>\n",
       "      <td>39453.000000</td>\n",
       "      <td>192230.000000</td>\n",
       "      <td>93193.000000</td>\n",
       "      <td>1250.000000</td>\n",
       "    </tr>\n",
       "  </tbody>\n",
       "</table>\n",
       "</div>"
      ],
      "text/plain": [
       "          Weight_Kg     Low_Price    High_Price   Sales_Total  Total_Qty_Sold  \\\n",
       "count  64368.000000  64368.000000  64368.000000  6.436800e+04    64368.000000   \n",
       "mean      12.775983     75.649130     89.606784  1.939782e+04      446.159847   \n",
       "std       35.912807    159.508488    172.225175  4.442383e+04     1184.232900   \n",
       "min        0.120000      1.000000      1.000000 -5.770000e+04     -595.000000   \n",
       "25%        7.000000     30.000000     35.000000  1.155000e+03       20.000000   \n",
       "50%       10.000000     46.000000     55.000000  5.400000e+03      107.000000   \n",
       "75%       11.000000     80.000000    100.000000  1.877400e+04      390.000000   \n",
       "max      500.000000   4400.000000   4400.000000  1.134701e+06    39453.000000   \n",
       "\n",
       "       Total_Kg_Sold  Stock_On_Hand  avg_price_per_kg  \n",
       "count   64368.000000   64368.000000      64368.000000  \n",
       "mean     3337.055990     477.677107         10.465372  \n",
       "std      7682.682767    1453.963990         26.126632  \n",
       "min     -5040.000000    -512.000000        -78.670000  \n",
       "25%       175.000000       0.000000          4.020000  \n",
       "50%       940.000000      76.000000          6.000000  \n",
       "75%      3253.000000     381.000000          8.670000  \n",
       "max    192230.000000   93193.000000       1250.000000  "
      ]
     },
     "execution_count": 121,
     "metadata": {},
     "output_type": "execute_result"
    }
   ],
   "source": [
    "# Dropping all the rows with nan values\n",
    "df.dropna(inplace=True)\n",
    "  \n",
    "# Printing df\n",
    "df.describe()"
   ]
  },
  {
   "cell_type": "markdown",
   "metadata": {},
   "source": [
    "#### Visualisations of the dataset "
   ]
  },
  {
   "cell_type": "code",
   "execution_count": 11,
   "metadata": {},
   "outputs": [
    {
     "data": {
      "image/png": "[encoded data removed]",
      "text/plain": [
       "<Figure size 864x576 with 1 Axes>"
      ]
     },
     "metadata": {
      "needs_background": "light"
     },
     "output_type": "display_data"
    }
   ],
   "source": [
    "plt.figure(figsize=(12, 8))\n",
    "\n",
    "df['Province'].value_counts().plot(kind='bar')\n",
    "\n",
    "plt.title('Average price by Province', fontsize=15)\n",
    "\n",
    "plt.xlabel('Province', fontsize=12)\n",
    "plt.ylabel('Average Price', fontsize=12)\n",
    "plt.show()"
   ]
  },
  {
   "cell_type": "markdown",
   "metadata": {},
   "source": [
    "#### Checking for outliers in dataset"
   ]
  },
  {
   "cell_type": "code",
   "execution_count": 19,
   "metadata": {},
   "outputs": [
    {
     "name": "stderr",
     "output_type": "stream",
     "text": [
      "C:\\Users\\tyron\\Anaconda3\\lib\\site-packages\\numpy\\core\\_methods.py:160: RuntimeWarning: invalid value encountered in reduce\n",
      "  ret = umr_sum(arr, axis, dtype, out, keepdims)\n"
     ]
    },
    {
     "data": {
      "image/png": "[encoded data removed]",
      "text/plain": [
       "<Figure size 1080x720 with 1 Axes>"
      ]
     },
     "metadata": {
      "needs_background": "light"
     },
     "output_type": "display_data"
    }
   ],
   "source": [
    "boxplot = df.boxplot(grid=False, rot=45, figsize=(15, 10));"
   ]
  },
  {
   "cell_type": "markdown",
   "metadata": {},
   "source": [
    "The boxplot indicates that there are a number of outliers in the Sales Total and Stock on Hand"
   ]
  },
  {
   "cell_type": "markdown",
   "metadata": {},
   "source": [
    "#### Let's take a closer look at these two boxplots and the target feature"
   ]
  },
  {
   "cell_type": "code",
   "execution_count": 20,
   "metadata": {},
   "outputs": [
    {
     "data": {
      "text/plain": [
       "<AxesSubplot:>"
      ]
     },
     "execution_count": 20,
     "metadata": {},
     "output_type": "execute_result"
    },
    {
     "data": {
      "image/png": "[encoded data removed]",
      "text/plain": [
       "<Figure size 864x576 with 1 Axes>"
      ]
     },
     "metadata": {
      "needs_background": "light"
     },
     "output_type": "display_data"
    }
   ],
   "source": [
    "plt.figure(figsize=(12,8))\n",
    "\n",
    "df[['Sales_Total', 'Stock_On_Hand']].boxplot()"
   ]
  },
  {
   "cell_type": "markdown",
   "metadata": {},
   "source": [
    "There can be a number of reasons for the outlier data observed in dataset. The negative values for price, sales and stock on hand can be as a result of a number of reasons - incorrect entry, stock and sales may have been recorded as sold when in fact was stil in \"production\" and not in the warehouse. Having negative stock and negative sales therefore does not make sense, and must be corrected"
   ]
  },
  {
   "cell_type": "code",
   "execution_count": 21,
   "metadata": {},
   "outputs": [
    {
     "data": {
      "text/plain": [
       "<AxesSubplot:>"
      ]
     },
     "execution_count": 21,
     "metadata": {},
     "output_type": "execute_result"
    },
    {
     "data": {
      "image/png": "[encoded data removed]",
      "text/plain": [
       "<Figure size 1440x720 with 2 Axes>"
      ]
     },
     "metadata": {
      "needs_background": "light"
     },
     "output_type": "display_data"
    }
   ],
   "source": [
    "plt.figure(figsize=(20,10))\n",
    "sns.heatmap(df.corr(), annot=True)"
   ]
  },
  {
   "cell_type": "markdown",
   "metadata": {},
   "source": [
    "Looking at the heatmap, the scale on the extreme right shows that a lighter shade has a stronger correlation, vs the darker shade a negative correlation. The target variable (avg_price_per_kg) does not have particularly strong correlation with any of the features, while it has some negative correlations with other features"
   ]
  },
  {
   "cell_type": "markdown",
   "metadata": {},
   "source": [
    "#### Outlier Treatment\n",
    "\n",
    "\n",
    "#### Quantile-based Flooring and Capping\n",
    "\n",
    "\n",
    "In this technique, we will do the flooring (e.g., the 10th percentile) for the lower values and capping (e.g., the 90th percentile) for the higher values. The lines of code below print the percentiles of the variables respectively. These values will be used for quantile-based flooring and capping. To deal with the outliers in the dataset, I have set the floorig to 1% and the capping to 99%. This is done for the \"avg_price_per_kg\", \"Sales_Total\", \"Stock_On_Hand\", \"Total_Qty_Sold\" and \"Total_Kg_Sold\" features."
   ]
  },
  {
   "cell_type": "code",
   "execution_count": 122,
   "metadata": {},
   "outputs": [
    {
     "name": "stdout",
     "output_type": "stream",
     "text": [
      "1.0\n",
      "146.7327000000003\n"
     ]
    }
   ],
   "source": [
    "print(df['avg_price_per_kg'].quantile(0.01)) \n",
    "print(df['avg_price_per_kg'].quantile(0.99)) "
   ]
  },
  {
   "cell_type": "code",
   "execution_count": 123,
   "metadata": {},
   "outputs": [
    {
     "data": {
      "text/plain": [
       "count    64368.000000\n",
       "mean         9.605749\n",
       "std         16.923905\n",
       "min          1.000000\n",
       "25%          4.020000\n",
       "50%          6.000000\n",
       "75%          8.670000\n",
       "max        146.000000\n",
       "Name: avg_price_per_kg, dtype: float64"
      ]
     },
     "execution_count": 123,
     "metadata": {},
     "output_type": "execute_result"
    }
   ],
   "source": [
    "df['avg_price_per_kg'] = np.where(df['avg_price_per_kg'] < 1.0, 1.0,df['avg_price_per_kg'])\n",
    "df['avg_price_per_kg'] = np.where(df['avg_price_per_kg'] > 146.0, 146.0,df['avg_price_per_kg'])\n",
    "df['avg_price_per_kg'].describe()"
   ]
  },
  {
   "cell_type": "code",
   "execution_count": 124,
   "metadata": {},
   "outputs": [
    {
     "name": "stdout",
     "output_type": "stream",
     "text": [
      "4.0\n",
      "203928.58000000005\n"
     ]
    }
   ],
   "source": [
    "print(train['Sales_Total'].quantile(0.01)) \n",
    "print(train['Sales_Total'].quantile(0.99)) "
   ]
  },
  {
   "cell_type": "code",
   "execution_count": 125,
   "metadata": {},
   "outputs": [
    {
     "data": {
      "text/plain": [
       "count     64368.000000\n",
       "mean      18100.319371\n",
       "std       33139.830007\n",
       "min           4.000000\n",
       "25%        1155.000000\n",
       "50%        5400.000000\n",
       "75%       18774.000000\n",
       "max      203946.000000\n",
       "Name: Sales_Total, dtype: float64"
      ]
     },
     "execution_count": 125,
     "metadata": {},
     "output_type": "execute_result"
    }
   ],
   "source": [
    "df['Sales_Total'] = np.where(df['Sales_Total'] < 4.0, 4.0,df['Sales_Total'])\n",
    "df['Sales_Total'] = np.where(df['Sales_Total'] > 203946.0, 203946.0,df['Sales_Total'])\n",
    "df['Sales_Total'].describe()"
   ]
  },
  {
   "cell_type": "code",
   "execution_count": 126,
   "metadata": {},
   "outputs": [
    {
     "data": {
      "text/plain": [
       "count    64368.000000\n",
       "mean       428.719022\n",
       "std        928.789437\n",
       "min          0.000000\n",
       "25%          0.000000\n",
       "50%         76.000000\n",
       "75%        381.000000\n",
       "max       5843.000000\n",
       "Name: Stock_On_Hand, dtype: float64"
      ]
     },
     "execution_count": 126,
     "metadata": {},
     "output_type": "execute_result"
    }
   ],
   "source": [
    "df['Stock_On_Hand'] = np.where(df['Stock_On_Hand'] < 0.0, 0.0,df['Stock_On_Hand'])\n",
    "df['Stock_On_Hand'] = np.where(df['Stock_On_Hand'] > 5843.0, 5843.0,df['Stock_On_Hand'])\n",
    "df['Stock_On_Hand'].describe()"
   ]
  },
  {
   "cell_type": "code",
   "execution_count": 127,
   "metadata": {},
   "outputs": [
    {
     "name": "stdout",
     "output_type": "stream",
     "text": [
      "1.0\n",
      "5203.630000000019\n"
     ]
    }
   ],
   "source": [
    "print(df['Total_Qty_Sold'].quantile(0.01)) \n",
    "print(df['Total_Qty_Sold'].quantile(0.99)) "
   ]
  },
  {
   "cell_type": "code",
   "execution_count": 128,
   "metadata": {},
   "outputs": [
    {
     "data": {
      "text/plain": [
       "count    64368.000000\n",
       "mean       407.517944\n",
       "std        813.183245\n",
       "min          1.000000\n",
       "25%         20.000000\n",
       "50%        107.000000\n",
       "75%        390.000000\n",
       "max       5204.000000\n",
       "Name: Total_Qty_Sold, dtype: float64"
      ]
     },
     "execution_count": 128,
     "metadata": {},
     "output_type": "execute_result"
    }
   ],
   "source": [
    "df['Total_Qty_Sold'] = np.where(df['Total_Qty_Sold'] < 1.0, 1.0,df['Total_Qty_Sold'])\n",
    "df['Total_Qty_Sold'] = np.where(df['Total_Qty_Sold'] > 5204.0, 5204.0,df['Total_Qty_Sold'])\n",
    "df['Total_Qty_Sold'].describe()"
   ]
  },
  {
   "cell_type": "code",
   "execution_count": 129,
   "metadata": {},
   "outputs": [
    {
     "name": "stdout",
     "output_type": "stream",
     "text": [
      "5.0\n",
      "34800.0\n"
     ]
    }
   ],
   "source": [
    "print(df['Total_Kg_Sold'].quantile(0.01)) \n",
    "print(df['Total_Kg_Sold'].quantile(0.99)) "
   ]
  },
  {
   "cell_type": "code",
   "execution_count": 130,
   "metadata": {},
   "outputs": [
    {
     "data": {
      "text/plain": [
       "count    64368.000000\n",
       "mean      3103.344810\n",
       "std       5707.002667\n",
       "min          5.000000\n",
       "25%        175.000000\n",
       "50%        940.000000\n",
       "75%       3253.000000\n",
       "max      34800.000000\n",
       "Name: Total_Kg_Sold, dtype: float64"
      ]
     },
     "execution_count": 130,
     "metadata": {},
     "output_type": "execute_result"
    }
   ],
   "source": [
    "df['Total_Kg_Sold'] = np.where(df['Total_Kg_Sold'] < 5.0, 5.0,df['Total_Kg_Sold'])\n",
    "df['Total_Kg_Sold'] = np.where(df['Total_Kg_Sold'] > 34800.0, 34800.0,df['Total_Kg_Sold'])\n",
    "df['Total_Kg_Sold'].describe()"
   ]
  },
  {
   "cell_type": "code",
   "execution_count": 131,
   "metadata": {},
   "outputs": [
    {
     "data": {
      "text/plain": [
       "(64368, 13)"
      ]
     },
     "execution_count": 131,
     "metadata": {},
     "output_type": "execute_result"
    }
   ],
   "source": [
    "df.shape"
   ]
  },
  {
   "cell_type": "markdown",
   "metadata": {},
   "source": [
    "#### Merging the train and test data sets"
   ]
  },
  {
   "cell_type": "code",
   "execution_count": 16,
   "metadata": {},
   "outputs": [],
   "source": [
    "data = pd.concat(objs = [df, df_test], axis = 0).reset_index(drop = True)"
   ]
  },
  {
   "cell_type": "code",
   "execution_count": 17,
   "metadata": {},
   "outputs": [
    {
     "data": {
      "text/html": [
       "<div>\n",
       "<style scoped>\n",
       "    .dataframe tbody tr th:only-of-type {\n",
       "        vertical-align: middle;\n",
       "    }\n",
       "\n",
       "    .dataframe tbody tr th {\n",
       "        vertical-align: top;\n",
       "    }\n",
       "\n",
       "    .dataframe thead th {\n",
       "        text-align: right;\n",
       "    }\n",
       "</style>\n",
       "<table border=\"1\" class=\"dataframe\">\n",
       "  <thead>\n",
       "    <tr style=\"text-align: right;\">\n",
       "      <th></th>\n",
       "      <th>Province</th>\n",
       "      <th>Container</th>\n",
       "      <th>Size_Grade</th>\n",
       "      <th>Weight_Kg</th>\n",
       "      <th>Commodities</th>\n",
       "      <th>Date</th>\n",
       "      <th>Low_Price</th>\n",
       "      <th>High_Price</th>\n",
       "      <th>Sales_Total</th>\n",
       "      <th>Total_Qty_Sold</th>\n",
       "      <th>Total_Kg_Sold</th>\n",
       "      <th>Stock_On_Hand</th>\n",
       "      <th>avg_price_per_kg</th>\n",
       "      <th>Index</th>\n",
       "    </tr>\n",
       "  </thead>\n",
       "  <tbody>\n",
       "    <tr>\n",
       "      <th>0</th>\n",
       "      <td>CAPE</td>\n",
       "      <td>EC120</td>\n",
       "      <td>1L</td>\n",
       "      <td>12.0</td>\n",
       "      <td>APPLE GRANNY SMITH</td>\n",
       "      <td>2020-03-10</td>\n",
       "      <td>108.0</td>\n",
       "      <td>112.0</td>\n",
       "      <td>3236.0</td>\n",
       "      <td>29</td>\n",
       "      <td>348.0</td>\n",
       "      <td>0</td>\n",
       "      <td>9.30</td>\n",
       "      <td>NaN</td>\n",
       "    </tr>\n",
       "    <tr>\n",
       "      <th>1</th>\n",
       "      <td>CAPE</td>\n",
       "      <td>M4183</td>\n",
       "      <td>1L</td>\n",
       "      <td>18.3</td>\n",
       "      <td>APPLE GOLDEN DELICIOUS</td>\n",
       "      <td>2020-09-09</td>\n",
       "      <td>150.0</td>\n",
       "      <td>170.0</td>\n",
       "      <td>51710.0</td>\n",
       "      <td>332</td>\n",
       "      <td>6075.6</td>\n",
       "      <td>822</td>\n",
       "      <td>8.51</td>\n",
       "      <td>NaN</td>\n",
       "    </tr>\n",
       "    <tr>\n",
       "      <th>2</th>\n",
       "      <td>GAUTENG</td>\n",
       "      <td>AT200</td>\n",
       "      <td>1L</td>\n",
       "      <td>20.0</td>\n",
       "      <td>AVOCADO PINKERTON</td>\n",
       "      <td>2020-05-05</td>\n",
       "      <td>70.0</td>\n",
       "      <td>80.0</td>\n",
       "      <td>4860.0</td>\n",
       "      <td>66</td>\n",
       "      <td>1320.0</td>\n",
       "      <td>50</td>\n",
       "      <td>3.68</td>\n",
       "      <td>NaN</td>\n",
       "    </tr>\n",
       "    <tr>\n",
       "      <th>3</th>\n",
       "      <td>TRANSVAAL</td>\n",
       "      <td>BJ090</td>\n",
       "      <td>1L</td>\n",
       "      <td>9.0</td>\n",
       "      <td>TOMATOES-LONG LIFE</td>\n",
       "      <td>2020-01-20</td>\n",
       "      <td>60.0</td>\n",
       "      <td>60.0</td>\n",
       "      <td>600.0</td>\n",
       "      <td>10</td>\n",
       "      <td>90.0</td>\n",
       "      <td>0</td>\n",
       "      <td>6.67</td>\n",
       "      <td>NaN</td>\n",
       "    </tr>\n",
       "    <tr>\n",
       "      <th>4</th>\n",
       "      <td>WESTERN FREESTATE</td>\n",
       "      <td>PP100</td>\n",
       "      <td>1R</td>\n",
       "      <td>10.0</td>\n",
       "      <td>POTATO SIFRA (WASHED)</td>\n",
       "      <td>2020-07-14</td>\n",
       "      <td>40.0</td>\n",
       "      <td>45.0</td>\n",
       "      <td>41530.0</td>\n",
       "      <td>927</td>\n",
       "      <td>9270.0</td>\n",
       "      <td>393</td>\n",
       "      <td>4.48</td>\n",
       "      <td>NaN</td>\n",
       "    </tr>\n",
       "  </tbody>\n",
       "</table>\n",
       "</div>"
      ],
      "text/plain": [
       "            Province Container Size_Grade  Weight_Kg             Commodities  \\\n",
       "0               CAPE     EC120         1L       12.0      APPLE GRANNY SMITH   \n",
       "1               CAPE     M4183         1L       18.3  APPLE GOLDEN DELICIOUS   \n",
       "2            GAUTENG     AT200         1L       20.0       AVOCADO PINKERTON   \n",
       "3          TRANSVAAL     BJ090         1L        9.0      TOMATOES-LONG LIFE   \n",
       "4  WESTERN FREESTATE     PP100         1R       10.0   POTATO SIFRA (WASHED)   \n",
       "\n",
       "         Date  Low_Price  High_Price  Sales_Total  Total_Qty_Sold  \\\n",
       "0  2020-03-10      108.0       112.0       3236.0              29   \n",
       "1  2020-09-09      150.0       170.0      51710.0             332   \n",
       "2  2020-05-05       70.0        80.0       4860.0              66   \n",
       "3  2020-01-20       60.0        60.0        600.0              10   \n",
       "4  2020-07-14       40.0        45.0      41530.0             927   \n",
       "\n",
       "   Total_Kg_Sold  Stock_On_Hand  avg_price_per_kg  Index  \n",
       "0          348.0              0              9.30    NaN  \n",
       "1         6075.6            822              8.51    NaN  \n",
       "2         1320.0             50              3.68    NaN  \n",
       "3           90.0              0              6.67    NaN  \n",
       "4         9270.0            393              4.48    NaN  "
      ]
     },
     "execution_count": 17,
     "metadata": {},
     "output_type": "execute_result"
    }
   ],
   "source": [
    "data.head()"
   ]
  },
  {
   "cell_type": "code",
   "execution_count": 14,
   "metadata": {},
   "outputs": [],
   "source": [
    "target = ['avg_price_per_kg']"
   ]
  },
  {
   "cell_type": "markdown",
   "metadata": {},
   "source": [
    "#### Dropping the Container and Index columns from dataset, it has no bearing on the target feature"
   ]
  },
  {
   "cell_type": "code",
   "execution_count": null,
   "metadata": {},
   "outputs": [],
   "source": [
    "data = data.drop(['Container', 'Index',], axis = 1)"
   ]
  },
  {
   "cell_type": "markdown",
   "metadata": {},
   "source": [
    " #### Date column is an object data type which is incorret. Let's change that column and split it into year and month"
   ]
  },
  {
   "cell_type": "code",
   "execution_count": 136,
   "metadata": {},
   "outputs": [],
   "source": [
    "data['Year'] = data['Date'].apply(lambda x: int(str(x)[:4]))\n",
    "data['Month'] = data['Date'].apply(lambda x: int(str(x)[5:7]))\n",
    "data.drop(['Date'], axis=1, inplace=True)"
   ]
  },
  {
   "cell_type": "code",
   "execution_count": 137,
   "metadata": {},
   "outputs": [
    {
     "data": {
      "text/html": [
       "<div>\n",
       "<style scoped>\n",
       "    .dataframe tbody tr th:only-of-type {\n",
       "        vertical-align: middle;\n",
       "    }\n",
       "\n",
       "    .dataframe tbody tr th {\n",
       "        vertical-align: top;\n",
       "    }\n",
       "\n",
       "    .dataframe thead th {\n",
       "        text-align: right;\n",
       "    }\n",
       "</style>\n",
       "<table border=\"1\" class=\"dataframe\">\n",
       "  <thead>\n",
       "    <tr style=\"text-align: right;\">\n",
       "      <th></th>\n",
       "      <th>Province</th>\n",
       "      <th>Size_Grade</th>\n",
       "      <th>Weight_Kg</th>\n",
       "      <th>Commodities</th>\n",
       "      <th>Low_Price</th>\n",
       "      <th>High_Price</th>\n",
       "      <th>Sales_Total</th>\n",
       "      <th>Total_Qty_Sold</th>\n",
       "      <th>Total_Kg_Sold</th>\n",
       "      <th>Stock_On_Hand</th>\n",
       "      <th>avg_price_per_kg</th>\n",
       "      <th>Year</th>\n",
       "      <th>Month</th>\n",
       "    </tr>\n",
       "  </thead>\n",
       "  <tbody>\n",
       "    <tr>\n",
       "      <th>0</th>\n",
       "      <td>CAPE</td>\n",
       "      <td>1L</td>\n",
       "      <td>12.0</td>\n",
       "      <td>APPLE GRANNY SMITH</td>\n",
       "      <td>108.0</td>\n",
       "      <td>112.0</td>\n",
       "      <td>3236.0</td>\n",
       "      <td>29.0</td>\n",
       "      <td>348.0</td>\n",
       "      <td>0.0</td>\n",
       "      <td>9.30</td>\n",
       "      <td>2020</td>\n",
       "      <td>3</td>\n",
       "    </tr>\n",
       "    <tr>\n",
       "      <th>1</th>\n",
       "      <td>CAPE</td>\n",
       "      <td>1L</td>\n",
       "      <td>18.3</td>\n",
       "      <td>APPLE GOLDEN DELICIOUS</td>\n",
       "      <td>150.0</td>\n",
       "      <td>170.0</td>\n",
       "      <td>51710.0</td>\n",
       "      <td>332.0</td>\n",
       "      <td>6075.6</td>\n",
       "      <td>822.0</td>\n",
       "      <td>8.51</td>\n",
       "      <td>2020</td>\n",
       "      <td>9</td>\n",
       "    </tr>\n",
       "    <tr>\n",
       "      <th>2</th>\n",
       "      <td>GAUTENG</td>\n",
       "      <td>1L</td>\n",
       "      <td>20.0</td>\n",
       "      <td>AVOCADO PINKERTON</td>\n",
       "      <td>70.0</td>\n",
       "      <td>80.0</td>\n",
       "      <td>4860.0</td>\n",
       "      <td>66.0</td>\n",
       "      <td>1320.0</td>\n",
       "      <td>50.0</td>\n",
       "      <td>3.68</td>\n",
       "      <td>2020</td>\n",
       "      <td>5</td>\n",
       "    </tr>\n",
       "    <tr>\n",
       "      <th>3</th>\n",
       "      <td>TRANSVAAL</td>\n",
       "      <td>1L</td>\n",
       "      <td>9.0</td>\n",
       "      <td>TOMATOES-LONG LIFE</td>\n",
       "      <td>60.0</td>\n",
       "      <td>60.0</td>\n",
       "      <td>600.0</td>\n",
       "      <td>10.0</td>\n",
       "      <td>90.0</td>\n",
       "      <td>0.0</td>\n",
       "      <td>6.67</td>\n",
       "      <td>2020</td>\n",
       "      <td>1</td>\n",
       "    </tr>\n",
       "    <tr>\n",
       "      <th>4</th>\n",
       "      <td>WESTERN FREESTATE</td>\n",
       "      <td>1R</td>\n",
       "      <td>10.0</td>\n",
       "      <td>POTATO SIFRA (WASHED)</td>\n",
       "      <td>40.0</td>\n",
       "      <td>45.0</td>\n",
       "      <td>41530.0</td>\n",
       "      <td>927.0</td>\n",
       "      <td>9270.0</td>\n",
       "      <td>393.0</td>\n",
       "      <td>4.48</td>\n",
       "      <td>2020</td>\n",
       "      <td>7</td>\n",
       "    </tr>\n",
       "  </tbody>\n",
       "</table>\n",
       "</div>"
      ],
      "text/plain": [
       "            Province Size_Grade  Weight_Kg             Commodities  Low_Price  \\\n",
       "0               CAPE         1L       12.0      APPLE GRANNY SMITH      108.0   \n",
       "1               CAPE         1L       18.3  APPLE GOLDEN DELICIOUS      150.0   \n",
       "2            GAUTENG         1L       20.0       AVOCADO PINKERTON       70.0   \n",
       "3          TRANSVAAL         1L        9.0      TOMATOES-LONG LIFE       60.0   \n",
       "4  WESTERN FREESTATE         1R       10.0   POTATO SIFRA (WASHED)       40.0   \n",
       "\n",
       "   High_Price  Sales_Total  Total_Qty_Sold  Total_Kg_Sold  Stock_On_Hand  \\\n",
       "0       112.0       3236.0            29.0          348.0            0.0   \n",
       "1       170.0      51710.0           332.0         6075.6          822.0   \n",
       "2        80.0       4860.0            66.0         1320.0           50.0   \n",
       "3        60.0        600.0            10.0           90.0            0.0   \n",
       "4        45.0      41530.0           927.0         9270.0          393.0   \n",
       "\n",
       "   avg_price_per_kg  Year  Month  \n",
       "0              9.30  2020      3  \n",
       "1              8.51  2020      9  \n",
       "2              3.68  2020      5  \n",
       "3              6.67  2020      1  \n",
       "4              4.48  2020      7  "
      ]
     },
     "execution_count": 137,
     "metadata": {},
     "output_type": "execute_result"
    }
   ],
   "source": [
    "data.head()"
   ]
  },
  {
   "cell_type": "markdown",
   "metadata": {},
   "source": [
    "#### Encoding Categorical Labels\n",
    "\n",
    "\n",
    "For modeling using scikit-learn, all the variables should be numeric, so we will have to change the labels. There is an intrinsic ordering in the level of Size_Grade so I will use Label_Encoder to convert the values into ordered integer values to use in ML algorithms"
   ]
  },
  {
   "cell_type": "code",
   "execution_count": 22,
   "metadata": {},
   "outputs": [
    {
     "data": {
      "image/png": "[encoded data removed]",
      "text/plain": [
       "<Figure size 864x576 with 1 Axes>"
      ]
     },
     "metadata": {
      "needs_background": "light"
     },
     "output_type": "display_data"
    }
   ],
   "source": [
    "plt.figure(figsize=(12, 8))\n",
    "\n",
    "df['Size_Grade'].value_counts().plot(kind='bar')\n",
    "\n",
    "plt.title('Average price by Size_Grade', fontsize=15)\n",
    "\n",
    "plt.xlabel('Size_Grade', fontsize=12)\n",
    "plt.ylabel('Average Price', fontsize=12)\n",
    "plt.show()"
   ]
  },
  {
   "cell_type": "code",
   "execution_count": 138,
   "metadata": {},
   "outputs": [],
   "source": [
    "data['Size_Grade'] = data['Size_Grade'].map ({\"1M\" : 0, \n",
    "    \"1L\" : 1,\n",
    "    \"1S\" : 2,\n",
    "    \"2M\" : 3,\n",
    "    \"2S\" : 4,\n",
    "    \"1Z\" : 5,\n",
    "    \"2L\" : 6,\n",
    "    \"1X\" : 7,\n",
    "    \"1R\" : 8,\n",
    "    \"1\" : 9,\n",
    "    \"M\" : 10,\n",
    "    \"L\" : 11,\n",
    "    \"2Z\" : 12,\n",
    "    \"3M\" : 13,\n",
    "    \"1U\" : 14,\n",
    "    \"2R\" : 15,\n",
    "    \"X\" : 16,\n",
    "    \"2X\" : 17,\n",
    "    \"1A\" : 18,\n",
    "    \"3Z\" : 19,\n",
    "    \"3L\" : 20,\n",
    "    \"3S\" : 21,\n",
    "    \"3R\" : 22,\n",
    "    \"S\" : 23,\n",
    "    \"2\" : 24,\n",
    "    \"2U\" : 25,\n",
    "    \"1G\" : 26,\n",
    "    \"4M\" : 27,\n",
    "    \"1B\" : 28,\n",
    "    \"2A\" : 29,\n",
    "    \"2B\" : 30,\n",
    "    \"0\" : 31,\n",
    "    \"2C\" : 32,\n",
    "    \"1C\" : 33,\n",
    "    \"3U\" : 34,\n",
    "    \"4L\" : 35,\n",
    "    \"4Z\" : 36,\n",
    "    \"G\" : 37,\n",
    "    \"4S\" : 38,\n",
    "    \"2G\" : 39,\n",
    "    \"4R\" : 40,\n",
    "    \"3X\" : 41,\n",
    "    \"0M\" : 42,\n",
    "    \"3G\" : 43,\n",
    "    \"4U\" : 44,\n",
    "    \"U\" : 45,\n",
    "    \"4X\" : 46\n",
    "        })\n",
    " "
   ]
  },
  {
   "cell_type": "code",
   "execution_count": 139,
   "metadata": {},
   "outputs": [
    {
     "data": {
      "text/html": [
       "<div>\n",
       "<style scoped>\n",
       "    .dataframe tbody tr th:only-of-type {\n",
       "        vertical-align: middle;\n",
       "    }\n",
       "\n",
       "    .dataframe tbody tr th {\n",
       "        vertical-align: top;\n",
       "    }\n",
       "\n",
       "    .dataframe thead th {\n",
       "        text-align: right;\n",
       "    }\n",
       "</style>\n",
       "<table border=\"1\" class=\"dataframe\">\n",
       "  <thead>\n",
       "    <tr style=\"text-align: right;\">\n",
       "      <th></th>\n",
       "      <th>Province</th>\n",
       "      <th>Size_Grade</th>\n",
       "      <th>Weight_Kg</th>\n",
       "      <th>Commodities</th>\n",
       "      <th>Low_Price</th>\n",
       "      <th>High_Price</th>\n",
       "      <th>Sales_Total</th>\n",
       "      <th>Total_Qty_Sold</th>\n",
       "      <th>Total_Kg_Sold</th>\n",
       "      <th>Stock_On_Hand</th>\n",
       "      <th>avg_price_per_kg</th>\n",
       "      <th>Year</th>\n",
       "      <th>Month</th>\n",
       "    </tr>\n",
       "  </thead>\n",
       "  <tbody>\n",
       "    <tr>\n",
       "      <th>0</th>\n",
       "      <td>CAPE</td>\n",
       "      <td>1</td>\n",
       "      <td>12.0</td>\n",
       "      <td>APPLE GRANNY SMITH</td>\n",
       "      <td>108.0</td>\n",
       "      <td>112.0</td>\n",
       "      <td>3236.0</td>\n",
       "      <td>29.0</td>\n",
       "      <td>348.0</td>\n",
       "      <td>0.0</td>\n",
       "      <td>9.30</td>\n",
       "      <td>2020</td>\n",
       "      <td>3</td>\n",
       "    </tr>\n",
       "    <tr>\n",
       "      <th>1</th>\n",
       "      <td>CAPE</td>\n",
       "      <td>1</td>\n",
       "      <td>18.3</td>\n",
       "      <td>APPLE GOLDEN DELICIOUS</td>\n",
       "      <td>150.0</td>\n",
       "      <td>170.0</td>\n",
       "      <td>51710.0</td>\n",
       "      <td>332.0</td>\n",
       "      <td>6075.6</td>\n",
       "      <td>822.0</td>\n",
       "      <td>8.51</td>\n",
       "      <td>2020</td>\n",
       "      <td>9</td>\n",
       "    </tr>\n",
       "    <tr>\n",
       "      <th>2</th>\n",
       "      <td>GAUTENG</td>\n",
       "      <td>1</td>\n",
       "      <td>20.0</td>\n",
       "      <td>AVOCADO PINKERTON</td>\n",
       "      <td>70.0</td>\n",
       "      <td>80.0</td>\n",
       "      <td>4860.0</td>\n",
       "      <td>66.0</td>\n",
       "      <td>1320.0</td>\n",
       "      <td>50.0</td>\n",
       "      <td>3.68</td>\n",
       "      <td>2020</td>\n",
       "      <td>5</td>\n",
       "    </tr>\n",
       "    <tr>\n",
       "      <th>3</th>\n",
       "      <td>TRANSVAAL</td>\n",
       "      <td>1</td>\n",
       "      <td>9.0</td>\n",
       "      <td>TOMATOES-LONG LIFE</td>\n",
       "      <td>60.0</td>\n",
       "      <td>60.0</td>\n",
       "      <td>600.0</td>\n",
       "      <td>10.0</td>\n",
       "      <td>90.0</td>\n",
       "      <td>0.0</td>\n",
       "      <td>6.67</td>\n",
       "      <td>2020</td>\n",
       "      <td>1</td>\n",
       "    </tr>\n",
       "    <tr>\n",
       "      <th>4</th>\n",
       "      <td>WESTERN FREESTATE</td>\n",
       "      <td>8</td>\n",
       "      <td>10.0</td>\n",
       "      <td>POTATO SIFRA (WASHED)</td>\n",
       "      <td>40.0</td>\n",
       "      <td>45.0</td>\n",
       "      <td>41530.0</td>\n",
       "      <td>927.0</td>\n",
       "      <td>9270.0</td>\n",
       "      <td>393.0</td>\n",
       "      <td>4.48</td>\n",
       "      <td>2020</td>\n",
       "      <td>7</td>\n",
       "    </tr>\n",
       "  </tbody>\n",
       "</table>\n",
       "</div>"
      ],
      "text/plain": [
       "            Province  Size_Grade  Weight_Kg             Commodities  \\\n",
       "0               CAPE           1       12.0      APPLE GRANNY SMITH   \n",
       "1               CAPE           1       18.3  APPLE GOLDEN DELICIOUS   \n",
       "2            GAUTENG           1       20.0       AVOCADO PINKERTON   \n",
       "3          TRANSVAAL           1        9.0      TOMATOES-LONG LIFE   \n",
       "4  WESTERN FREESTATE           8       10.0   POTATO SIFRA (WASHED)   \n",
       "\n",
       "   Low_Price  High_Price  Sales_Total  Total_Qty_Sold  Total_Kg_Sold  \\\n",
       "0      108.0       112.0       3236.0            29.0          348.0   \n",
       "1      150.0       170.0      51710.0           332.0         6075.6   \n",
       "2       70.0        80.0       4860.0            66.0         1320.0   \n",
       "3       60.0        60.0        600.0            10.0           90.0   \n",
       "4       40.0        45.0      41530.0           927.0         9270.0   \n",
       "\n",
       "   Stock_On_Hand  avg_price_per_kg  Year  Month  \n",
       "0            0.0              9.30  2020      3  \n",
       "1          822.0              8.51  2020      9  \n",
       "2           50.0              3.68  2020      5  \n",
       "3            0.0              6.67  2020      1  \n",
       "4          393.0              4.48  2020      7  "
      ]
     },
     "execution_count": 139,
     "metadata": {},
     "output_type": "execute_result"
    }
   ],
   "source": [
    "data.head()"
   ]
  },
  {
   "cell_type": "markdown",
   "metadata": {},
   "source": [
    "The table above shows the Size_Grade feature has been transformed to a numerical variable"
   ]
  },
  {
   "cell_type": "markdown",
   "metadata": {},
   "source": [
    "#### Categorical values with no intrinsic order can be converted to numeric values using one-hot encoding"
   ]
  },
  {
   "cell_type": "code",
   "execution_count": 140,
   "metadata": {},
   "outputs": [],
   "source": [
    "data = pd.get_dummies(data, columns=['Province'])"
   ]
  },
  {
   "cell_type": "code",
   "execution_count": 141,
   "metadata": {},
   "outputs": [],
   "source": [
    "data = pd.get_dummies(data, columns=['Commodities'])"
   ]
  },
  {
   "cell_type": "code",
   "execution_count": 142,
   "metadata": {},
   "outputs": [
    {
     "data": {
      "text/html": [
       "<div>\n",
       "<style scoped>\n",
       "    .dataframe tbody tr th:only-of-type {\n",
       "        vertical-align: middle;\n",
       "    }\n",
       "\n",
       "    .dataframe tbody tr th {\n",
       "        vertical-align: top;\n",
       "    }\n",
       "\n",
       "    .dataframe thead th {\n",
       "        text-align: right;\n",
       "    }\n",
       "</style>\n",
       "<table border=\"1\" class=\"dataframe\">\n",
       "  <thead>\n",
       "    <tr style=\"text-align: right;\">\n",
       "      <th></th>\n",
       "      <th>Size_Grade</th>\n",
       "      <th>Weight_Kg</th>\n",
       "      <th>Low_Price</th>\n",
       "      <th>High_Price</th>\n",
       "      <th>Sales_Total</th>\n",
       "      <th>Total_Qty_Sold</th>\n",
       "      <th>Total_Kg_Sold</th>\n",
       "      <th>Stock_On_Hand</th>\n",
       "      <th>avg_price_per_kg</th>\n",
       "      <th>Year</th>\n",
       "      <th>...</th>\n",
       "      <th>Commodities_TANGELOS</th>\n",
       "      <th>Commodities_TAWNY SEEDLESS</th>\n",
       "      <th>Commodities_TOMATOES COCKTAIL</th>\n",
       "      <th>Commodities_TOMATOES JAM</th>\n",
       "      <th>Commodities_TOMATOES OTHER</th>\n",
       "      <th>Commodities_TOMATOES SALADETTE</th>\n",
       "      <th>Commodities_TOMATOES-LONG LIFE</th>\n",
       "      <th>Commodities_VALLEY GOLD</th>\n",
       "      <th>Commodities_WASHED POTATOES</th>\n",
       "      <th>Commodities_WATERMELON</th>\n",
       "    </tr>\n",
       "  </thead>\n",
       "  <tbody>\n",
       "    <tr>\n",
       "      <th>0</th>\n",
       "      <td>1</td>\n",
       "      <td>12.0</td>\n",
       "      <td>108.0</td>\n",
       "      <td>112.0</td>\n",
       "      <td>3236.0</td>\n",
       "      <td>29.0</td>\n",
       "      <td>348.0</td>\n",
       "      <td>0.0</td>\n",
       "      <td>9.30</td>\n",
       "      <td>2020</td>\n",
       "      <td>...</td>\n",
       "      <td>0</td>\n",
       "      <td>0</td>\n",
       "      <td>0</td>\n",
       "      <td>0</td>\n",
       "      <td>0</td>\n",
       "      <td>0</td>\n",
       "      <td>0</td>\n",
       "      <td>0</td>\n",
       "      <td>0</td>\n",
       "      <td>0</td>\n",
       "    </tr>\n",
       "    <tr>\n",
       "      <th>1</th>\n",
       "      <td>1</td>\n",
       "      <td>18.3</td>\n",
       "      <td>150.0</td>\n",
       "      <td>170.0</td>\n",
       "      <td>51710.0</td>\n",
       "      <td>332.0</td>\n",
       "      <td>6075.6</td>\n",
       "      <td>822.0</td>\n",
       "      <td>8.51</td>\n",
       "      <td>2020</td>\n",
       "      <td>...</td>\n",
       "      <td>0</td>\n",
       "      <td>0</td>\n",
       "      <td>0</td>\n",
       "      <td>0</td>\n",
       "      <td>0</td>\n",
       "      <td>0</td>\n",
       "      <td>0</td>\n",
       "      <td>0</td>\n",
       "      <td>0</td>\n",
       "      <td>0</td>\n",
       "    </tr>\n",
       "    <tr>\n",
       "      <th>2</th>\n",
       "      <td>1</td>\n",
       "      <td>20.0</td>\n",
       "      <td>70.0</td>\n",
       "      <td>80.0</td>\n",
       "      <td>4860.0</td>\n",
       "      <td>66.0</td>\n",
       "      <td>1320.0</td>\n",
       "      <td>50.0</td>\n",
       "      <td>3.68</td>\n",
       "      <td>2020</td>\n",
       "      <td>...</td>\n",
       "      <td>0</td>\n",
       "      <td>0</td>\n",
       "      <td>0</td>\n",
       "      <td>0</td>\n",
       "      <td>0</td>\n",
       "      <td>0</td>\n",
       "      <td>0</td>\n",
       "      <td>0</td>\n",
       "      <td>0</td>\n",
       "      <td>0</td>\n",
       "    </tr>\n",
       "    <tr>\n",
       "      <th>3</th>\n",
       "      <td>1</td>\n",
       "      <td>9.0</td>\n",
       "      <td>60.0</td>\n",
       "      <td>60.0</td>\n",
       "      <td>600.0</td>\n",
       "      <td>10.0</td>\n",
       "      <td>90.0</td>\n",
       "      <td>0.0</td>\n",
       "      <td>6.67</td>\n",
       "      <td>2020</td>\n",
       "      <td>...</td>\n",
       "      <td>0</td>\n",
       "      <td>0</td>\n",
       "      <td>0</td>\n",
       "      <td>0</td>\n",
       "      <td>0</td>\n",
       "      <td>0</td>\n",
       "      <td>1</td>\n",
       "      <td>0</td>\n",
       "      <td>0</td>\n",
       "      <td>0</td>\n",
       "    </tr>\n",
       "    <tr>\n",
       "      <th>4</th>\n",
       "      <td>8</td>\n",
       "      <td>10.0</td>\n",
       "      <td>40.0</td>\n",
       "      <td>45.0</td>\n",
       "      <td>41530.0</td>\n",
       "      <td>927.0</td>\n",
       "      <td>9270.0</td>\n",
       "      <td>393.0</td>\n",
       "      <td>4.48</td>\n",
       "      <td>2020</td>\n",
       "      <td>...</td>\n",
       "      <td>0</td>\n",
       "      <td>0</td>\n",
       "      <td>0</td>\n",
       "      <td>0</td>\n",
       "      <td>0</td>\n",
       "      <td>0</td>\n",
       "      <td>0</td>\n",
       "      <td>0</td>\n",
       "      <td>0</td>\n",
       "      <td>0</td>\n",
       "    </tr>\n",
       "  </tbody>\n",
       "</table>\n",
       "<p>5 rows × 303 columns</p>\n",
       "</div>"
      ],
      "text/plain": [
       "   Size_Grade  Weight_Kg  Low_Price  High_Price  Sales_Total  Total_Qty_Sold  \\\n",
       "0           1       12.0      108.0       112.0       3236.0            29.0   \n",
       "1           1       18.3      150.0       170.0      51710.0           332.0   \n",
       "2           1       20.0       70.0        80.0       4860.0            66.0   \n",
       "3           1        9.0       60.0        60.0        600.0            10.0   \n",
       "4           8       10.0       40.0        45.0      41530.0           927.0   \n",
       "\n",
       "   Total_Kg_Sold  Stock_On_Hand  avg_price_per_kg  Year  ...  \\\n",
       "0          348.0            0.0              9.30  2020  ...   \n",
       "1         6075.6          822.0              8.51  2020  ...   \n",
       "2         1320.0           50.0              3.68  2020  ...   \n",
       "3           90.0            0.0              6.67  2020  ...   \n",
       "4         9270.0          393.0              4.48  2020  ...   \n",
       "\n",
       "   Commodities_TANGELOS  Commodities_TAWNY SEEDLESS  \\\n",
       "0                     0                           0   \n",
       "1                     0                           0   \n",
       "2                     0                           0   \n",
       "3                     0                           0   \n",
       "4                     0                           0   \n",
       "\n",
       "   Commodities_TOMATOES COCKTAIL  Commodities_TOMATOES JAM  \\\n",
       "0                              0                         0   \n",
       "1                              0                         0   \n",
       "2                              0                         0   \n",
       "3                              0                         0   \n",
       "4                              0                         0   \n",
       "\n",
       "   Commodities_TOMATOES OTHER  Commodities_TOMATOES SALADETTE  \\\n",
       "0                           0                               0   \n",
       "1                           0                               0   \n",
       "2                           0                               0   \n",
       "3                           0                               0   \n",
       "4                           0                               0   \n",
       "\n",
       "   Commodities_TOMATOES-LONG LIFE  Commodities_VALLEY GOLD  \\\n",
       "0                               0                        0   \n",
       "1                               0                        0   \n",
       "2                               0                        0   \n",
       "3                               1                        0   \n",
       "4                               0                        0   \n",
       "\n",
       "   Commodities_WASHED POTATOES  Commodities_WATERMELON  \n",
       "0                            0                       0  \n",
       "1                            0                       0  \n",
       "2                            0                       0  \n",
       "3                            0                       0  \n",
       "4                            0                       0  \n",
       "\n",
       "[5 rows x 303 columns]"
      ]
     },
     "execution_count": 142,
     "metadata": {},
     "output_type": "execute_result"
    }
   ],
   "source": [
    "data.head()"
   ]
  },
  {
   "cell_type": "code",
   "execution_count": 143,
   "metadata": {},
   "outputs": [
    {
     "name": "stderr",
     "output_type": "stream",
     "text": [
      "C:\\Users\\tyron\\Anaconda3\\lib\\site-packages\\pandas\\core\\frame.py:4163: SettingWithCopyWarning: \n",
      "A value is trying to be set on a copy of a slice from a DataFrame\n",
      "\n",
      "See the caveats in the documentation: https://pandas.pydata.org/pandas-docs/stable/user_guide/indexing.html#returning-a-view-versus-a-copy\n",
      "  return super().drop(\n"
     ]
    }
   ],
   "source": [
    "train_len = len(df)\n",
    "train = data[:train_len]\n",
    "# to submit \n",
    "test = data[train_len:]\n",
    "test.drop(labels=[\"avg_price_per_kg\"],axis = 1,inplace=True)"
   ]
  },
  {
   "cell_type": "code",
   "execution_count": 144,
   "metadata": {},
   "outputs": [
    {
     "data": {
      "text/plain": [
       "(64368, 303)"
      ]
     },
     "execution_count": 144,
     "metadata": {},
     "output_type": "execute_result"
    }
   ],
   "source": [
    "train.shape\n"
   ]
  },
  {
   "cell_type": "markdown",
   "metadata": {},
   "source": [
    "#### We now drop the label column from our train data."
   ]
  },
  {
   "cell_type": "code",
   "execution_count": 145,
   "metadata": {},
   "outputs": [
    {
     "name": "stderr",
     "output_type": "stream",
     "text": [
      "<ipython-input-145-a20a63cdbd5e>:1: SettingWithCopyWarning: \n",
      "A value is trying to be set on a copy of a slice from a DataFrame.\n",
      "Try using .loc[row_indexer,col_indexer] = value instead\n",
      "\n",
      "See the caveats in the documentation: https://pandas.pydata.org/pandas-docs/stable/user_guide/indexing.html#returning-a-view-versus-a-copy\n",
      "  train[\"avg_price_per_kg\"] = train[\"avg_price_per_kg\"].astype(int)\n"
     ]
    }
   ],
   "source": [
    "train[\"avg_price_per_kg\"] = train[\"avg_price_per_kg\"].astype(int)"
   ]
  },
  {
   "cell_type": "code",
   "execution_count": 146,
   "metadata": {},
   "outputs": [
    {
     "data": {
      "text/plain": [
       "(64368, 302)"
      ]
     },
     "execution_count": 146,
     "metadata": {},
     "output_type": "execute_result"
    }
   ],
   "source": [
    "columns_train = [col for col in data.columns.tolist() if col not in target]\n",
    "label = train['avg_price_per_kg']\n",
    "train = train[columns_train]\n",
    "train.shape\n"
   ]
  },
  {
   "cell_type": "markdown",
   "metadata": {},
   "source": [
    "#### With sklearn’s splitting function, we split our train data into train and validation sets"
   ]
  },
  {
   "cell_type": "code",
   "execution_count": 147,
   "metadata": {},
   "outputs": [],
   "source": [
    "X_train, X_test, y_train, y_test = model_selection.train_test_split(train, label, test_size = 0.30, random_state = 40)"
   ]
  },
  {
   "cell_type": "markdown",
   "metadata": {},
   "source": [
    "#### Build, Predict and Evaluate the Regression Model\n",
    "\n",
    "\n",
    "Implementing the various linear regression models using the scikit-learn library.\n",
    "\n",
    "\n",
    "#### Evaluation Metrics\n",
    "We will evaluate the performance of the model using two metrics - R-squared value and Root Mean Squared Error (RMSE).\n",
    "\n",
    "R-squared values range from 0 to 1 and are commonly stated as percentages. It is a statistical measure that represents the proportion of the variance for a target variable that is explained by the independent variables. The other commonly used metric for regression problems is RMSE, that measures the average magnitude of the residuals or error. We will be using both these metrics to evaluate the model performance."
   ]
  },
  {
   "cell_type": "markdown",
   "metadata": {},
   "source": [
    "#### Linear Regression\n",
    "\n",
    "\n",
    "The simplest form of regression is the linear regression, which assumes that the predictors have a linear relationship with the target variable. The input variables are assumed to have a Gaussian distribution. Another assumption is that the predictors are not highly correlated with each other (a problem called multi-collinearity).\n",
    "\n",
    "\n",
    "In order to fit the linear regression model, the first step is to instantiate the algorithm that is done in the first line of code below. The second line fits the model on the training set."
   ]
  },
  {
   "cell_type": "code",
   "execution_count": 148,
   "metadata": {},
   "outputs": [
    {
     "data": {
      "text/plain": [
       "LinearRegression()"
      ]
     },
     "execution_count": 148,
     "metadata": {},
     "output_type": "execute_result"
    }
   ],
   "source": [
    "lr = LinearRegression()\n",
    "lr.fit(X_train, y_train)"
   ]
  },
  {
   "cell_type": "code",
   "execution_count": 149,
   "metadata": {},
   "outputs": [
    {
     "data": {
      "text/plain": [
       "LinearRegression(n_jobs=1)"
      ]
     },
     "execution_count": 149,
     "metadata": {},
     "output_type": "execute_result"
    }
   ],
   "source": [
    "LinearRegression(copy_X=True, fit_intercept=True, n_jobs=1, normalize=False)"
   ]
  },
  {
   "cell_type": "code",
   "execution_count": 150,
   "metadata": {},
   "outputs": [
    {
     "name": "stdout",
     "output_type": "stream",
     "text": [
      "Linear Regression: \n",
      "The RMSE for the train set is: 12.053518589454903\n",
      "The R2 score for the train set is: 0.4850337659025795\n",
      "The RMSE for the test is: 85145.02643710279\n",
      "The R2 score for the test set is: -23969656.730432205\n"
     ]
    }
   ],
   "source": [
    "pred_train_lr= lr.predict(X_train)\n",
    "print(\"Linear Regression: \")\n",
    "print(\"The RMSE for the train set is:\",np.sqrt(mean_squared_error(y_train,pred_train_lr)))\n",
    "print(\"The R2 score for the train set is:\",r2_score(y_train, pred_train_lr))\n",
    "\n",
    "pred_test_lr= lr.predict(X_test)\n",
    "print(\"The RMSE for the test is:\",np.sqrt(mean_squared_error(y_test,pred_test_lr))) \n",
    "print(\"The R2 score for the test set is:\",r2_score(y_test, pred_test_lr))"
   ]
  },
  {
   "cell_type": "markdown",
   "metadata": {},
   "source": [
    "#### Regularized Regression\n",
    "As discussed above, linear regression works by selecting coefficients for each independent variable that minimizes a loss function. However, if the coefficients are too large, it can lead to model over-fitting on the training dataset. Such a model will not generalize well on the unseen data. To overcome this shortcoming, we do regularization which penalizes large coefficients. The following sections of the guide will discuss the various regularization algorithms.\n",
    "\n",
    "\n",
    "#### Ridge Regression\n",
    "Ridge regression is an extension of linear regression where the loss function is modified to minimize the complexity of the model. This modification is done by adding a penalty parameter that is equivalent to the square of the magnitude of the coefficients.\n",
    "\n",
    "\n",
    "The first line of code below instantiates the Ridge Regression model with an alpha value of 0.01. The second line fits the model to the training data.\n",
    "\n",
    "The third line of code predicts, while the fourth and fifth lines print the evaluation metrics - RMSE and R-squared - on the training set. The same steps are repeated on the test dataset in the sixth to eight lines of code."
   ]
  },
  {
   "cell_type": "code",
   "execution_count": 151,
   "metadata": {},
   "outputs": [
    {
     "name": "stdout",
     "output_type": "stream",
     "text": [
      "Ridge Regression: \n",
      "The RMSE for the train set is: 12.05733946709296\n",
      "The R2 score for the train set is: 0.4847072330624481\n",
      "The RMSE for the test set is: 12.511274509800757\n",
      "The R2 score for the test set is: 0.4824570828256831\n"
     ]
    }
   ],
   "source": [
    "rr = Ridge(alpha=0.5)\n",
    "rr.fit(X_train, y_train) \n",
    "pred_train_rr= rr.predict(X_train)\n",
    "print(\"Ridge Regression: \")\n",
    "print(\"The RMSE for the train set is:\",np.sqrt(mean_squared_error(y_train,pred_train_rr)))\n",
    "print(\"The R2 score for the train set is:\",r2_score(y_train, pred_train_rr))\n",
    "\n",
    "pred_test_rr= rr.predict(X_test)\n",
    "print(\"The RMSE for the test set is:\",np.sqrt(mean_squared_error(y_test,pred_test_rr))) \n",
    "print(\"The R2 score for the test set is:\",r2_score(y_test, pred_test_rr))"
   ]
  },
  {
   "cell_type": "markdown",
   "metadata": {},
   "source": [
    "#### Lasso Regression\n",
    "Lasso regression, or the Least Absolute Shrinkage and Selection Operator, is also a modification of linear regression. In Lasso, the loss function is modified to minimize the complexity of the model by limiting the sum of the absolute values of the model coefficients (also called the l1-norm).\n",
    "\n",
    "\n",
    "In scikit-learn, a lasso regression model is constructed by using the Lasso class. The first line of code below instantiates the Lasso Regression model with an alpha value of 0.01. The second line fits the model to the training data.\n",
    "\n",
    "The third line of code predicts, while the fourth and fifth lines print the evaluation metrics - RMSE and R-squared - on the training set. The same steps are repeated on the test dataset in the sixth to eight lines of code."
   ]
  },
  {
   "cell_type": "code",
   "execution_count": 152,
   "metadata": {},
   "outputs": [
    {
     "name": "stdout",
     "output_type": "stream",
     "text": [
      "Lasso Regression\n",
      "The RMSE for the train set is: 12.476443011141136\n",
      "The R2 score for the train set is: 0.4482623204347066\n",
      "The RMSE for the test set is: 13.061038615203039\n",
      "The R2 score for the test set is: 0.43597456356954367\n"
     ]
    }
   ],
   "source": [
    "model_lasso = Lasso(alpha=0.01)\n",
    "model_lasso.fit(X_train, y_train) \n",
    "pred_train_lasso= model_lasso.predict(X_train)\n",
    "print(\"Lasso Regression\")\n",
    "print(\"The RMSE for the train set is:\",np.sqrt(mean_squared_error(y_train,pred_train_lasso)))\n",
    "print(\"The R2 score for the train set is:\",r2_score(y_train, pred_train_lasso))\n",
    "\n",
    "pred_test_lasso= model_lasso.predict(X_test)\n",
    "print(\"The RMSE for the test set is:\",np.sqrt(mean_squared_error(y_test,pred_test_lasso))) \n",
    "print(\"The R2 score for the test set is:\",r2_score(y_test, pred_test_lasso))"
   ]
  },
  {
   "cell_type": "markdown",
   "metadata": {},
   "source": [
    "#### ElasticNet Regression\n",
    "ElasticNet combines the properties of both Ridge and Lasso regression. It works by penalizing the model using both the l2-norm and the l1-norm.\n",
    "\n",
    "In scikit-learn, an ElasticNet regression model is constructed by using the ElasticNet class. The first line of code below instantiates the ElasticNet Regression with an alpha value of 0.01. The second line fits the model to the training data.\n",
    "\n",
    "The third line of code predicts, while the fourth and fifth lines print the evaluation metrics - RMSE and R-squared - on the training set. The same steps are repeated on the test dataset in the sixth to eight lines of code."
   ]
  },
  {
   "cell_type": "code",
   "execution_count": 153,
   "metadata": {},
   "outputs": [
    {
     "name": "stdout",
     "output_type": "stream",
     "text": [
      "ElasticNet Regression\n",
      "The MSE for the train set is: 13.382381726936066\n",
      "The R2 score for the train set is: 0.3652278018290004\n",
      "The MSE for the test set is: 14.025697588192235\n",
      "The R2 score for the test set is: 0.3495825194679808\n"
     ]
    }
   ],
   "source": [
    "#Elastic Net\n",
    "model_enet = ElasticNet(alpha = 0.01)\n",
    "model_enet.fit(X_train, y_train) \n",
    "pred_train_enet= model_enet.predict(X_train)\n",
    "print(\"ElasticNet Regression\")\n",
    "print(\"The MSE for the train set is:\",np.sqrt(mean_squared_error(y_train,pred_train_enet)))\n",
    "print(\"The R2 score for the train set is:\",r2_score(y_train, pred_train_enet))\n",
    "\n",
    "pred_test_enet= model_enet.predict(X_test)\n",
    "print(\"The MSE for the test set is:\",np.sqrt(mean_squared_error(y_test,pred_test_enet)))\n",
    "print(\"The R2 score for the test set is:\",r2_score(y_test, pred_test_enet))"
   ]
  },
  {
   "cell_type": "markdown",
   "metadata": {},
   "source": [
    "#### Decision Trees\n",
    "Decision Trees, also referred to as Classification and Regression Trees (CART), work for both categorical and continuous input and output variables. It works by splitting the data into two or more homogeneous sets based on the most significant splitter among the independent variables. The best differentiator is the one that minimizes the cost metric. The cost metrics for a classification tree is often the entropy or the gini index, whereas, for a regression tree, the default metric is the mean squared error.\n",
    "\n",
    "\n",
    "We will now create a CART regression model using the DecisionTreeRegressor class. The first step is to instantiate the algorithm that is done in the first line of code below. The second line fits the model on the training set. The arguments used are max_depth, which indicates the maximum depth of the tree, and min_samples_leaf, that indicates the minimum number of samples required to be at a leaf node."
   ]
  },
  {
   "cell_type": "code",
   "execution_count": 154,
   "metadata": {},
   "outputs": [
    {
     "data": {
      "text/plain": [
       "DecisionTreeRegressor(max_depth=8, min_samples_leaf=0.13, random_state=3)"
      ]
     },
     "execution_count": 154,
     "metadata": {},
     "output_type": "execute_result"
    }
   ],
   "source": [
    "dtree = DecisionTreeRegressor(max_depth=8, min_samples_leaf=0.13, random_state=3)\n",
    "\n",
    "dtree.fit(X_train, y_train)"
   ]
  },
  {
   "cell_type": "markdown",
   "metadata": {},
   "source": [
    "Once the model is built on the training set, we can make the predictions. The first line of code below predicts on the training set. The second and third lines of code prints the evaluation metrics - RMSE and R-squared - on the training set. The same steps are repeated on the test dataset in the fourth to sixth lines."
   ]
  },
  {
   "cell_type": "code",
   "execution_count": 155,
   "metadata": {},
   "outputs": [
    {
     "name": "stdout",
     "output_type": "stream",
     "text": [
      "Decision Trees:\n",
      "The RMSE for the train set is: 15.06641568503672\n",
      "The R2 score for the train set is: 0.1954167989231359\n",
      "The RMSE for the test is: 15.638171663082476\n",
      "The R2 score for the test is: 0.19143448364161308\n"
     ]
    }
   ],
   "source": [
    "# Code lines 1 to 3\n",
    "pred_train_tree= dtree.predict(X_train)\n",
    "print(\"Decision Trees:\")\n",
    "print(\"The RMSE for the train set is:\",np.sqrt(mean_squared_error(y_train,pred_train_tree)))\n",
    "print(\"The R2 score for the train set is:\",r2_score(y_train, pred_train_tree))\n",
    "\n",
    "# Code lines 4 to 6\n",
    "pred_test_tree= dtree.predict(X_test)\n",
    "print(\"The RMSE for the test is:\",np.sqrt(mean_squared_error(y_test,pred_test_tree))) \n",
    "print(\"The R2 score for the test is:\",r2_score(y_test, pred_test_tree))"
   ]
  },
  {
   "cell_type": "markdown",
   "metadata": {},
   "source": [
    "The above output shows that the RMSE is 15.06641568503672 for train data and 15.60225929945864 for test data. On the other hand, the R-squared value is 19.5 percent for train data and 19.1 percent for test data. This model performs poorly, but let's check if we can do better by doing hyperparameter tuning. We will be changing the values of the parameter, 'max_depth', to see how that affects the model performance.\n",
    "\n",
    "The first four lines of code below instantiates and fits the regression trees with 'max_depth' parameter of 2 and 5, respectively. The fifth and sixth lines of code generate predictions on the training data, whereas the seventh and eight lines of code gives predictions on the testing data."
   ]
  },
  {
   "cell_type": "code",
   "execution_count": 156,
   "metadata": {},
   "outputs": [],
   "source": [
    "# Code Lines 1 to 4: Fit the regression tree 'dtree1' and 'dtree2' \n",
    "dtree1 = DecisionTreeRegressor(max_depth=2)\n",
    "dtree2 = DecisionTreeRegressor(max_depth=5)\n",
    "dtree1.fit(X_train, y_train)\n",
    "dtree2.fit(X_train, y_train)\n",
    "\n",
    "# Code Lines 5 to 6: Predict on training data\n",
    "tr1 = dtree1.predict(X_train)\n",
    "tr2 = dtree2.predict(X_train) \n",
    "\n",
    "#Code Lines 7 to 8: Predict on testing data\n",
    "y1 = dtree1.predict(X_test)\n",
    "y2 = dtree2.predict(X_test) "
   ]
  },
  {
   "cell_type": "code",
   "execution_count": 157,
   "metadata": {},
   "outputs": [
    {
     "name": "stdout",
     "output_type": "stream",
     "text": [
      "Decision Tree with Parameter Tuning max_dept = 2:\n",
      "The RMSE of the train set is: 8.365940298882112\n",
      "The R2 score of the train set is: 0.7519263756597139\n",
      "The RMSE of the train set is: 8.297805171066049\n",
      "The R2 score of the test set is: 0.7723489118892509\n"
     ]
    }
   ],
   "source": [
    "# Print RMSE and R-squared value for regression tree 'dtree1' on training data\n",
    "print(\"Decision Tree with Parameter Tuning max_dept = 2:\")\n",
    "print(\"The RMSE of the train set is:\",np.sqrt(mean_squared_error(y_train,tr1))) \n",
    "print(\"The R2 score of the train set is:\",r2_score(y_train, tr1))\n",
    "\n",
    "# Print RMSE and R-squared value for regression tree 'dtree1' on testing data\n",
    "print(\"The RMSE of the train set is:\",np.sqrt(mean_squared_error(y_test,y1))) \n",
    "print(\"The R2 score of the test set is:\",r2_score(y_test, y1)) "
   ]
  },
  {
   "cell_type": "code",
   "execution_count": 158,
   "metadata": {},
   "outputs": [
    {
     "name": "stdout",
     "output_type": "stream",
     "text": [
      "Decision Tree with Parameter Tuning max_dept = 5:\n",
      "The RMSE of the train set is: 8.365940298882112\n",
      "The R2 score of the train set is: 0.7519263756597139\n",
      "The RMSE of the train set is: 8.297805171066049\n",
      "The R2 score of the test set is: 0.7723489118892509\n"
     ]
    }
   ],
   "source": [
    "# Print RMSE and R-squared value for regression tree 'dtree2' on training data\n",
    "print(\"Decision Tree with Parameter Tuning max_dept = 5:\")\n",
    "print(\"The RMSE of the train set is:\",np.sqrt(mean_squared_error(y_train,tr1))) \n",
    "print(\"The R2 score of the train set is:\",r2_score(y_train, tr1))\n",
    "\n",
    "# Print RMSE and R-squared value for regression tree 'dtree1' on testing data\n",
    "print(\"The RMSE of the train set is:\",np.sqrt(mean_squared_error(y_test,y1))) \n",
    "print(\"The R2 score of the test set is:\",r2_score(y_test, y1)) "
   ]
  },
  {
   "cell_type": "markdown",
   "metadata": {},
   "source": [
    "The above output for 'dtree1' model shows that the RMSE is 8.365940298882112 for train data and 8.297805171066049 for test data. The R-squared value is 75.2 percent for train and 77.2 percent for test data. Hyperparameter tuning has vastly improved this model."
   ]
  },
  {
   "cell_type": "markdown",
   "metadata": {},
   "source": [
    "There is no improvement in dtree2 with a max_dept parameter of 5, but it demonstrates how parameter tuning can improve the model performance"
   ]
  },
  {
   "cell_type": "markdown",
   "metadata": {},
   "source": [
    "#### Random Forest "
   ]
  },
  {
   "cell_type": "markdown",
   "metadata": {},
   "source": [
    "Random Forest (or Bootstrap Aggregation)\n",
    "Decision Trees are useful, but the problem is that they often tend to overfit the training data leading to high variances in the test data. Random Forest algorithms overcome this shortcoming by reducing the variance of the decision trees. They are called 'Forest' because they are the collection, or ensemble, of several decision trees. One major difference between a Decision Tree and a Random Forest model is on how the splits happen. In Random Forest, instead of trying splits on all the features, a sample of features is selected for each split, thereby reducing the variance of the model.\n",
    "\n",
    "In scikit-learn, the RandomForestRegressor class is used for building regression trees. The first line of code below instantiates the Random Forest Regression model with the 'n_estimators' value of 500. 'n_estimators' indicates the number of trees in the forest. The second line fits the model to the training data.\n",
    "\n",
    "The third line of code predicts, while the fourth and fifth lines print the evaluation metrics - RMSE and R-squared - on the training set. The same steps are repeated on the test dataset in the sixth to eight lines of code."
   ]
  },
  {
   "cell_type": "code",
   "execution_count": 159,
   "metadata": {},
   "outputs": [
    {
     "name": "stdout",
     "output_type": "stream",
     "text": [
      "Random Forest Model:\n",
      "The RMSE of the train set is: 0.5194711517749416\n",
      "The R2 score of the train set is: 0.9990435243049212\n",
      "The RMSE of the test set is: 1.6422406838340664\n",
      "The R2 score of the test set is: 0.9910830387970506\n"
     ]
    }
   ],
   "source": [
    "#RF model\n",
    "model_rf = RandomForestRegressor(n_estimators=500, oob_score=True, random_state=100)\n",
    "model_rf.fit(X_train, y_train) \n",
    "pred_train_rf= model_rf.predict(X_train)\n",
    "print(\"Random Forest Model:\")\n",
    "print(\"The RMSE of the train set is:\",np.sqrt(mean_squared_error(y_train,pred_train_rf)))\n",
    "print(\"The R2 score of the train set is:\",r2_score(y_train, pred_train_rf))\n",
    "\n",
    "pred_test_rf = model_rf.predict(X_test)\n",
    "print(\"The RMSE of the test set is:\",np.sqrt(mean_squared_error(y_test,pred_test_rf)))\n",
    "print(\"The R2 score of the test set is:\",r2_score(y_test, pred_test_rf))"
   ]
  },
  {
   "cell_type": "markdown",
   "metadata": {},
   "source": [
    "We observed that the Random Forest model outperforms the Regression Tree models, with the test set RMSE and R-squared values of 1.6422406838340664 and 99.1 percent, respectively on the test data. "
   ]
  },
  {
   "cell_type": "markdown",
   "metadata": {},
   "source": [
    "#### Creating a dataframe with the target feature to make a submission to Kaggle"
   ]
  },
  {
   "cell_type": "code",
   "execution_count": 160,
   "metadata": {},
   "outputs": [],
   "source": [
    "price_predicted = pd.Series(model_rf.predict(test), name=\"avg_price_per_kg\")"
   ]
  },
  {
   "cell_type": "code",
   "execution_count": 161,
   "metadata": {},
   "outputs": [],
   "source": [
    "Index = df_test[\"Index\"]\n",
    "results = pd.concat([Index, price_predicted], axis=1)"
   ]
  },
  {
   "cell_type": "code",
   "execution_count": 162,
   "metadata": {},
   "outputs": [
    {
     "data": {
      "text/plain": [
       "(685, 2)"
      ]
     },
     "execution_count": 162,
     "metadata": {},
     "output_type": "execute_result"
    }
   ],
   "source": [
    "results.shape"
   ]
  },
  {
   "cell_type": "markdown",
   "metadata": {},
   "source": [
    "#### Creating a csv file for Submission to Kaggle"
   ]
  },
  {
   "cell_type": "code",
   "execution_count": 163,
   "metadata": {},
   "outputs": [],
   "source": [
    "results.to_csv(\"random_forest_1.csv\",index = False)"
   ]
  },
  {
   "cell_type": "markdown",
   "metadata": {},
   "source": [
    "Score on Kaggle is 0.06295 with fourth place on the leaderboard"
   ]
  },
  {
   "cell_type": "markdown",
   "metadata": {},
   "source": [
    "#### References"
   ]
  },
  {
   "cell_type": "markdown",
   "metadata": {},
   "source": [
    "- Grobler, J. (2021). Introduction to Data Science: Business understanding. University of Stellenbosch, Faculty of Engineering. \n",
    "- Grobler, J. (2021). Introduction to Data Science: Crisp-DM. University of Stellenbosch, Faculty of Engineering. \n",
    "- Grobler, J. (2021). Introduction to Data Science: Data preparation. University of Stellenbosch, Faculty of Engineering. \n",
    "- Grobler, J. (2021). Introduction to Data Science: Data understanding. University of Stellenbosch, Faculty of Engineering. \n",
    "https://www.pluralsight.com/guides/validating-machine-learning-models-scikit-learn\n",
    "- Kasongo, S. (2021). Linear Regression. University of Stellenbosch, Faculty of Engineering. \n",
    "- Kasongo, S. (2021). Machine Learning. University of Stellenbosch, Faculty of Engineering. \n",
    "- Kelleher, J.D., Mac Namee, B., & D’ Arcy, A. (2015). Machine learning for predictive data analytics. Fundamentals of Machine Learning for Predictive Analytics: Algorithms, Worked Examples, and Case Studies: pg. 491-509. The MIT Press.\n",
    "- Manu, J. (2017). 50 Amazing big data and data science quotes to inspire you. Retrieved from https://edvancer.in/50-amazing-big-data-and-data-science-quotes-to-inspire-you/\n",
    "- Singh, D. (2019). Scikit Machine Learning. Retrieved from https://www.pluralsight.com/guides/scikit-machine-learning\n",
    "- Singh, D. (2019). Validating Machine Learning Models with scikit-learn. Retrieved from https://www.pluralsight.com/guides/validating-machine-learning-models-scikit-learn/\n"
   ]
  },
  {
   "cell_type": "code",
   "execution_count": null,
   "metadata": {},
   "outputs": [],
   "source": []
  }
 ],
 "metadata": {
  "kernelspec": {
   "display_name": "Python 3",
   "language": "python",
   "name": "python3"
  },
  "language_info": {
   "codemirror_mode": {
    "name": "ipython",
    "version": 3
   },
   "file_extension": ".py",
   "mimetype": "text/x-python",
   "name": "python",
   "nbconvert_exporter": "python",
   "pygments_lexer": "ipython3",
   "version": "3.8.5"
  }
 },
 "nbformat": 4,
 "nbformat_minor": 4
}
